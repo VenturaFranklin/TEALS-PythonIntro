{
 "cells": [
  {
   "cell_type": "markdown",
   "metadata": {},
   "source": [
    "# Do Now 4.03\n",
    "\n",
    "```python\n",
    "def print_6_stars(): \n",
    "\tmy_string = ''\n",
    "\tfor i in range(0, 6): \n",
    "\t\tmy_string += ' *'\n",
    "\tprint(my_string)\n",
    "```\n",
    "\n",
    "1. Write down what the output of the function `print_6_stars` is. \n",
    "<br>\n",
    "<br>\n",
    "<br>\n",
    "2. Write a function  `print_star_square` that calls `print_6_stars` in a loop to produce the following output. \n",
    "\n",
    "    ```\n",
    "    >>>python3 print_stars.py\n",
    "    * * * * * * \n",
    "    * * * * * * \n",
    "    * * * * * * \n",
    "    * * * * * * \n",
    "    * * * * * * \n",
    "    * * * * * * \n",
    "    ```\n",
    "\n",
    "3. Rewrite the function `print_star_square` without using `print_6_stars`. Note that there are two ways to get the above output, so just try doing both! \n"
   ]
  },
  {
   "cell_type": "code",
   "execution_count": null,
   "metadata": {},
   "outputs": [],
   "source": []
  }
 ],
 "metadata": {
  "kernelspec": {
   "display_name": "Python 3",
   "language": "python",
   "name": "python3"
  },
  "language_info": {
   "codemirror_mode": {
    "name": "ipython",
    "version": 3
   },
   "file_extension": ".py",
   "mimetype": "text/x-python",
   "name": "python",
   "nbconvert_exporter": "python",
   "pygments_lexer": "ipython3",
   "version": "3.6.5"
  }
 },
 "nbformat": 4,
 "nbformat_minor": 2
}
