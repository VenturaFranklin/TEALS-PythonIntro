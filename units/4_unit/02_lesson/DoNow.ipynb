{
 "cells": [
  {
   "cell_type": "markdown",
   "metadata": {},
   "source": [
    "# Do Now 4.02\n",
    "\n",
    "# Part 1\n",
    "Copy and run the following code into the interpreter. \n",
    "```python\n",
    "for i in range(0, 10): \n",
    "\tprint(i)\n",
    "```\n",
    "Write down what the range function does.\n",
    "\n",
    "\n",
    "# Part 2\n",
    "Use the `range` and `len` functions to make a for loop that loops through `a`.\n",
    "\n",
    "```python\n",
    "a = ['apples', 'oranges', 'pears', 'grapes']\n",
    "```\n",
    "len_a = len(a)\t\t\n",
    "range(0, len(a))\n",
    "\n",
    "Write down what `range(0, len(a))` does.\t\t\n",
    "<br>\n",
    "What is the return value of the range function? \t\t\n",
    "<br>\t\t\n",
    "<br>\t\t\n",
    "\n",
    "# Part 3\n",
    "Use the `range` and `len` functions to make a for loop. (Remember that for loops iterate over lists)\n"
   ]
  },
  {
   "cell_type": "code",
   "execution_count": null,
   "metadata": {},
   "outputs": [],
   "source": []
  }
 ],
 "metadata": {
  "kernelspec": {
   "display_name": "Python 3",
   "language": "python",
   "name": "python3"
  },
  "language_info": {
   "codemirror_mode": {
    "name": "ipython",
    "version": 3
   },
   "file_extension": ".py",
   "mimetype": "text/x-python",
   "name": "python",
   "nbconvert_exporter": "python",
   "pygments_lexer": "ipython3",
   "version": "3.6.5"
  }
 },
 "nbformat": 4,
 "nbformat_minor": 2
}
