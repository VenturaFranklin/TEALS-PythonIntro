{
 "cells": [
  {
   "cell_type": "markdown",
   "metadata": {},
   "source": [
    "# Lesson 4.02: For Loops Using Range\n",
    "\n",
    "## Learning Objectives\n",
    "Students will be able to... \n",
    "* Define and identify: **range**\n",
    "* Use the `range` and `len` function to to update lists via for loops\n",
    "\n",
    "## Materials/Preparation\n",
    "* [Do Now]\n",
    "* [Lab - Getting Loopy]\n",
    "* Associated Reading - section 4.2 of Book\n",
    "* Read through the Do Now, lesson, and lab so that you are familiar with the requirements and can assist students\n",
    "\n",
    "## Pacing Guide\n",
    "| **Duration**   | **Description** |\n",
    "| ---------- | ----------- |\n",
    "| 5 Minutes  | Do Now      |\n",
    "| 10 Minutes | Lesson      |\n",
    "| 35 Minutes | Lab         |\n",
    "| 5 Minutes | Debrief     |\n",
    "\n",
    "## Instructor's Notes\n",
    "\n",
    "1. **Do Now**\n",
    "    * Display the Do Now on the board.\n",
    "    * Students experiment with and are introduced to the `range` function. \n",
    "2. **Lesson**\n",
    "\t* Go over Part 1 of the Do Now. Ask students what the **range** function did. Remind them that there are reference docs online. Show the docs for the range function (note that it actually takes in a third value that is optional). Work together with the students to write a for loop just using the range function. \n",
    "\t* Go over part 2 of the Do Now. Ask the students what happened. Ask the students why these values might be helpful. \n",
    "\t    * They are a list of the indices!\n",
    "\t* Go Over Part 3 (many students likely didn't finish). Ask students to write the first line of the loop on the board. Work together as a class to come to a solution that is demonstrated for all to see. \n",
    "3. **Lab**\n",
    "\t* Students re-write the fruit pluralizer program from yesterday's do now, but without creating a new list.\n",
    "\t* Students write a function that reverses the letters in a string.\n",
    "4. **Debrief**\n",
    "\t* Talk about any issues the students had with the lab today. Discuss how lists are mutable, so you don't have to return a new value. Instead, the list is just updated as the loop runs. \n",
    "\n",
    "### Accommodation/Differentiation\n",
    "\n",
    "If students are having a hard time with the fruit pluralizer, consider altering the fruit program to not allow fruit that ends in y.\n",
    "\n",
    "Some students may have issues with grabbing the last item of a string, consider providing tips or scaffolding for students that are struggling with this. \n",
    "\n",
    "Go over the bonus question if any students got to it. Discuss having a function inside of the loop and how that operated. \n",
    "\n",
    "\n",
    "## Forum discussion\n",
    "[Lesson 4.02: For Loops Using Range (TEALS Discourse Account Required)](https://forums.tealsk12.org/c/unit-4-looping/lesson-4-02-for-loops-nested-loops)\n",
    "\n",
    "[Do Now]: do_now.md\n",
    "[Lab - Getting Loopy]: lab.md\n"
   ]
  },
  {
   "cell_type": "code",
   "execution_count": null,
   "metadata": {},
   "outputs": [],
   "source": []
  }
 ],
 "metadata": {
  "kernelspec": {
   "display_name": "Python 3",
   "language": "python",
   "name": "python3"
  },
  "language_info": {
   "codemirror_mode": {
    "name": "ipython",
    "version": 3
   },
   "file_extension": ".py",
   "mimetype": "text/x-python",
   "name": "python",
   "nbconvert_exporter": "python",
   "pygments_lexer": "ipython3",
   "version": "3.6.5"
  }
 },
 "nbformat": 4,
 "nbformat_minor": 2
}
