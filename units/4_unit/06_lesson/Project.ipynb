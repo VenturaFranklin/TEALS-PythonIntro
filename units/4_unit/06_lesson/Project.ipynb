{
 "cells": [
  {
   "cell_type": "markdown",
   "metadata": {},
   "source": [
    "# Project 4: Tic-Tac-Toe\n",
    "\n",
    "Using Python, students will create a Tic-Tac-Toe game. This project has two parts: \n",
    "\n",
    "1. Designing the game so that two users can play Tic-Tac-Toe against one another.\n",
    "2. Creating a Tic-Tac-Toe checker which will check the board to see if Xs or Os have won the game. \n",
    "\n",
    "## Overview\n",
    "[Tic-Tac-Toe](http://www.merriam-webster.com/dictionary/tic-tac-toe) is a game in which one player draws X's and another player draws O's inside a set of nine squares and each player tries to be the first to fill a row, column, or diagonal of squares with either X's or O's. We will be writing an interactive Tic-Tac-Toe program. At the end of each turn the computer will check to see if X's have won the game or if the O's have won the game. \n",
    "\n",
    "### Behavior\n",
    "* The program will prompt the user to enter their name and their opponents name. \n",
    "* Whoever enters their name first will be playing as X's, and the other player will be O's. \n",
    "* The players will take turns inputting the row and column they would like to place their mark. \n",
    "* If that spot is already taken the program will ask for the spot again. \n",
    "* At the end of each player's turn the program will check if that player has won.\n",
    "* At the end of each player's turn the program will print the updated game board.\n",
    "* If there are no more spots open and nobody has won the game, the program will print `Tie game!`.\n",
    "\n",
    "### Implementation Details\n",
    "* Use variables to store the user names for personalized prompts.\n",
    "* Create a game board represented as a list of lists, size 3 by 3. \n",
    "***Note: This is a change from our earlier implementations of Tic-Tac-Toe. Why do you think this might be better?***\n",
    "* Check for a winner horizontally, vertically, and on both diagonals.\n",
    "* Cannot allow a user to overwrite a spot on the board.\n",
    "\n",
    "## Grading \n",
    "### Scheme/Rubric\n",
    "| **Functional Correctness (Behavior)**                                |     |\n",
    "| --------------------------------------------------------------- |-----|\n",
    "| Program prompts user for name | 2   |\n",
    "| Program marks board where user requested| 5|\n",
    "| Program prints a readable board after user's turn| 5|\n",
    "| Program won't overwrite value on board | 5   |\n",
    "| Program reports who won or if there was a tie             | 15  |\n",
    "| Program ends after win, loss, or tie       | 3  |\n",
    "| **Sub total**                                                   | 35  |\n",
    "| **Technical Correctness   **                                    |     |\n",
    "| Correct use of game loop                                        | 5  |\n",
    "| Correctly indexes into lists of lists to store board            | 5  |\n",
    "| Correctly check board for mark                                  | 5  |\n",
    "| Check for winners on all three horizontals and verticals        | 20  |\n",
    "| Checks for winners on both diagonals                            | 10  |\n",
    "| **Sub total**                                                   | 45  |\n",
    "| **Total**                                                       | 80 |\n",
    "\n",
    "\n"
   ]
  },
  {
   "cell_type": "code",
   "execution_count": null,
   "metadata": {},
   "outputs": [],
   "source": []
  }
 ],
 "metadata": {
  "kernelspec": {
   "display_name": "Python 3",
   "language": "python",
   "name": "python3"
  },
  "language_info": {
   "codemirror_mode": {
    "name": "ipython",
    "version": 3
   },
   "file_extension": ".py",
   "mimetype": "text/x-python",
   "name": "python",
   "nbconvert_exporter": "python",
   "pygments_lexer": "ipython3",
   "version": "3.6.5"
  }
 },
 "nbformat": 4,
 "nbformat_minor": 2
}
