{
 "cells": [
  {
   "cell_type": "markdown",
   "metadata": {},
   "source": [
    "# Do Now 4.01\n",
    "\n",
    "1. Copy and run the following code:\n",
    "```python\n",
    "single_fruit = ['apple', 'banana', 'watermelon', 'grape']\n",
    "multi_fruit = []\n",
    "multi_fruit.append(single_fruit[0] + 's')\n",
    "multi_fruit.append(single_fruit[1] + 's')\n",
    "multi_fruit.append(single_fruit[2] + 's')\n",
    "multi_fruit.append(single_fruit[3] + 's')\n",
    "print(multi_fruit)\n",
    "```\n",
    "Briefly write down what happened. What would happen if you added 100 items to the list `single_fruit`? Write down how you would update `multi_fruit`. \n",
    "<br>\n",
    "<br>\n",
    "<br>\n",
    "\n",
    "2. Copy and run the following code:\n",
    "```python\n",
    "list_of_numbers = [3, 5, 10, 23]\n",
    "for num in list_of_numbers: \n",
    "\tprint(\"num is \" + str(num))\n",
    "```\n",
    "Briefly write down what happened. How would this change if you added 100 items to `list_of_numbers`? \n",
    "<br>\n",
    "<br>\n",
    "<br>\n",
    "\n",
    "3. Rewrite the code from part 1 using knowledge from part 2. "
   ]
  },
  {
   "cell_type": "code",
   "execution_count": null,
   "metadata": {},
   "outputs": [],
   "source": []
  }
 ],
 "metadata": {
  "kernelspec": {
   "display_name": "Python 3",
   "language": "python",
   "name": "python3"
  },
  "language_info": {
   "codemirror_mode": {
    "name": "ipython",
    "version": 3
   },
   "file_extension": ".py",
   "mimetype": "text/x-python",
   "name": "python",
   "nbconvert_exporter": "python",
   "pygments_lexer": "ipython3",
   "version": "3.6.5"
  }
 },
 "nbformat": 4,
 "nbformat_minor": 2
}
