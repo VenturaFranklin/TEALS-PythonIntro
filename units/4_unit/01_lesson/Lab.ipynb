{
 "cells": [
  {
   "cell_type": "markdown",
   "metadata": {},
   "source": [
    "# Lab 4.01 - de_vowel\n",
    "\n",
    "## Remove the Vowels\n",
    "Create a function, `de_vowel`, which will take a string as input and return a copy of that string with all the vowels removed. Otherwise, the string should be the same. \n",
    "\n",
    "1. Create the function contract for `de_vowel`. \n",
    "2. Write `de_vowel` using a for loop \n",
    "3. Provide a few examples that confirm de_vowel works as expected:\n",
    "\t* What if the string is all vowels?\n",
    "\t* What if there are no vowels?\n",
    "\t* What if there is a mix of vowels and non-vowels and spaces?\n",
    "\t\n",
    "###Example\n",
    "\n",
    "Example of the file: \n",
    "\n",
    "```python\n",
    "# contract goes here\n",
    "def de_vowel(a_string): \n",
    "\t# your code goes here\n",
    "no_vowels = de_vowel(\"This sentence has no vowels\")\n",
    "print(no_vowels)\n",
    "# examples go here\n",
    "```\n",
    "\n",
    "Example running of the code: \n",
    "\n",
    "```python\n",
    ">>> python3 de_vowel_lab.py\n",
    "Ths sntnc hs n vwls\n",
    "```\n",
    "\n",
    "### Bonus!\n",
    "Use a counter (variable you define outside of a loop to keep track of a value inside a loop) to create a function `count_vowels`. \n",
    "\n",
    "`count_vowels` takes in a string and returns an int representing the number of vowels in the string. \n",
    "\n",
    "## SNAP Challenge – 10 Cats Drinking Milk from a Saucer\n",
    "•\tCreate the following program in Python.\n",
    "![](NestedLoops - NumOfCats - Code.png)"
   ]
  },
  {
   "cell_type": "code",
   "execution_count": null,
   "metadata": {},
   "outputs": [],
   "source": []
  }
 ],
 "metadata": {
  "kernelspec": {
   "display_name": "Python 3",
   "language": "python",
   "name": "python3"
  },
  "language_info": {
   "codemirror_mode": {
    "name": "ipython",
    "version": 3
   },
   "file_extension": ".py",
   "mimetype": "text/x-python",
   "name": "python",
   "nbconvert_exporter": "python",
   "pygments_lexer": "ipython3",
   "version": "3.6.5"
  }
 },
 "nbformat": 4,
 "nbformat_minor": 2
}
