{
 "cells": [
  {
   "cell_type": "markdown",
   "metadata": {},
   "source": [
    "# Lesson 4.01: Looping Basics\n",
    "\n",
    "## Learning Objectives\n",
    "Students will be able to...\n",
    "\n",
    "* Define and identify: **for loop**, **item**, **iteration**, **scope**\n",
    "* Recall looping in Snap! and reapply the concept in Python \n",
    "* Loop through (traverse) the items in a list\n",
    "* Be aware of the scope of variables during iteration \n",
    "\n",
    "## Materials/Preparation\n",
    "* [Do Now]\n",
    "* [Lab - de_vowel]\n",
    "* Associated Reading - section 4.1 of Book\n",
    "*  Read through the do now, lesson, and lab so that you are familiar with the requirements and can assist students\n",
    "\n",
    "## Pacing Guide\n",
    "| **Duration**   | **Description** |\n",
    "| ---------- | ----------- |\n",
    "| 10 Minutes  | Do Now      |\n",
    "| 10 Minutes | Lesson      |\n",
    "| 30 Minutes | Lab         |\n",
    "| 5 Minutes | Debrief     |\n",
    "\n",
    "## Instructor's Notes\n",
    "\n",
    "1. **Do Now**\n",
    "    * Display the Do Now on the board.\n",
    "    * Students will experience how to use a for loop to efficiently complete a repeated action.\n",
    "2. **Lesson**\n",
    "\t* Go over Part 1 of the Do Now. Ask the students what would happen if the list got much larger? \n",
    "\t    * If they say they would write down a lot of code, ask how readable that might be, or how long would it take to write, or the greater potential for bugs due to typos.\n",
    "\t* Go over part 2 of the Do Now. Ask the students what happened. Ask if they remember something similar from Snap! \n",
    "\t* Introduce the **for loop** as a way to deal with issues associated with part 1 of the Do Now. \n",
    "\t\t* Syntax: `for num in list_of_numbers:`\n",
    "\t\t    * Emphasize that the body of the for loop is the indented part\n",
    "\t\t* **Iteration**: body of the loop is repeated with different values of the list. Note how the body of the loop is repeated but `num` changes. Consider drawing this out on the board. \n",
    "\t\t* Remind students of the concept of **scope**, showing how `num` changes values with each iteration of the loop. \n",
    "\t* Go over Part 3 (many students likely didn't have time to finish). Ask students to write the first line of the loop on the board. Have students brainstorm what the body should be. Come to a group consensus and run the code.  \n",
    "3. **Lab**\n",
    "\t* De-vowel lab: Students will create a function that will take in a sentence and return that sentence without vowels. \n",
    "4. **Debrief**\n",
    "\t* Talk about any issues or challenges the students had with this lab. If there is time, call students up to the board to shown and demonstrate their code/solutions.\n",
    "\t\n",
    "\n",
    "### Accommodation/Differentiation\n",
    "\n",
    "If there is time, go over the bonus question. Explain how a counter is a frequently used tool to keep track of the count of things from outside the loop . Discuss the concept of the counter's scope (counter gets updated in the loop, but doesn't reset automatically at each iteration). Counters can be used with any loop, and are often used with while loops!\n",
    "\n",
    "## Forum discussion\n",
    "[Lesson 4.01: Looping Basics (TEALS Discourse Account Required)](https://forums.tealsk12.org/c/unit-4-looping/lesson-4-01-looping-basics)\n",
    "\n",
    "\n",
    "\n",
    "[Do Now]: do_now.md\n",
    "[Lab - de_vowel]: lab.md\n"
   ]
  },
  {
   "cell_type": "code",
   "execution_count": null,
   "metadata": {},
   "outputs": [],
   "source": []
  }
 ],
 "metadata": {
  "kernelspec": {
   "display_name": "Python 3",
   "language": "python",
   "name": "python3"
  },
  "language_info": {
   "codemirror_mode": {
    "name": "ipython",
    "version": 3
   },
   "file_extension": ".py",
   "mimetype": "text/x-python",
   "name": "python",
   "nbconvert_exporter": "python",
   "pygments_lexer": "ipython3",
   "version": "3.6.5"
  }
 },
 "nbformat": 4,
 "nbformat_minor": 2
}
