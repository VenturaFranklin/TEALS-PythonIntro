{
 "cells": [
  {
   "cell_type": "markdown",
   "metadata": {},
   "source": [
    "# Lesson 4.05: Debugging and Quiz\n",
    "\n",
    "## Learning Objectives\n",
    "Students will be able to... \n",
    "* Read and understand longer programs involving loops\n",
    "* Demonstrate their knowledge of looping, lists, and nested loops/lists\n",
    "* Debug programs involving for loops and lists\n",
    "\n",
    "## Materials/Preparation\n",
    "* Quiz (access protected resources by clicking on \"Additional Curriculum Materials\" on the [TEALS Dashboard])\n",
    "* [Lab - Debugging Practice]\n",
    "* [Coding Example]\n",
    "* Read through the quiz, lesson, and lab so that you are familiar with the requirements and can assist students\n",
    "* Go through the quiz and create an answer key & scoring rubric\n",
    "\n",
    "## Pacing Guide\n",
    "| **Duration**   | **Description** |\n",
    "| ---------- | ----------- |\n",
    "| 25 Minutes  | Quiz     |\n",
    "| 10 Minutes | Lesson     |\n",
    "| 20 Minutes | Lab         |\n",
    "| 5 Minutes | Debrief     |\n",
    "\n",
    "\n",
    "## Instructor's Notes\n",
    "\n",
    "1. **Quiz**\n",
    "    * Have students start working on the Quiz.\n",
    "2. **Lesson**\n",
    "\t* Talk about how to read code in a loop (you can use something of your choice or the provided [Coding Example])\n",
    "\t* Go over debugging practices for loops. \n",
    "\t\t* Use print statements throughout the code to show where error is.\n",
    "\t\t* Alter input to make sure body of loop is working correctly.\n",
    "\t\t* Make sure lists don't go out of bounds/past the end of the list.\n",
    "3. **Lab**\n",
    "\t* This lab will have students start by reading code and looking for errors while **not** at the computer.\t\n",
    "\t* After reading through the code they can practice the debugging practices mentioned on the computer to correct the programs.\n",
    "4. **Debrief**\n",
    "\t* Discuss as a class what was most helpful in debugging, highlight those practices throughout the upcoming project.\n",
    "\n",
    "### Accommodation/Differentiation\n",
    "Make sure to provide extended time on the quiz for any students that have that requirement in an IEP or 504 plan. \n",
    "\n",
    "## Forum discussion\n",
    "[Lesson 4.05: Debugging and Quiz (TEALS Discourse Account Required)](https://forums.tealsk12.org/c/unit-4-looping/lesson-4-05-debugging-and-quiz)\n",
    "\n",
    "[TEALS Dashboard]:http:/www.tealsk12.org/dashboard\n",
    "[Lab - Debugging Practice]: lab.md\n",
    "[Coding Example]: https://teals-introcs.gitbooks.io/2nd-semester-introduction-to-computer-science-pri/content/units/4_unit/05_lesson/longer_coding_sample.py\n"
   ]
  },
  {
   "cell_type": "code",
   "execution_count": null,
   "metadata": {},
   "outputs": [],
   "source": []
  }
 ],
 "metadata": {
  "kernelspec": {
   "display_name": "Python 3",
   "language": "python",
   "name": "python3"
  },
  "language_info": {
   "codemirror_mode": {
    "name": "ipython",
    "version": 3
   },
   "file_extension": ".py",
   "mimetype": "text/x-python",
   "name": "python",
   "nbconvert_exporter": "python",
   "pygments_lexer": "ipython3",
   "version": "3.6.5"
  }
 },
 "nbformat": 4,
 "nbformat_minor": 2
}
