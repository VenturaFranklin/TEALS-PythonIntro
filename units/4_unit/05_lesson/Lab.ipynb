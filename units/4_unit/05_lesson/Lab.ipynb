{
 "cells": [
  {
   "cell_type": "markdown",
   "metadata": {},
   "source": [
    "# Lab 4.05 - Debugging Practice\n",
    "\n",
    "1. Read through the following code: \n",
    " \n",
    "    ```python\n",
    "    def my_looping_function(list): \n",
    "\t    for i in range(1, len(list)+1): \n",
    "\t\t    print(list[i])\n",
    "\t\t\n",
    "    basic_list = [1, 2, 3, 4, 5, 6]\n",
    "    my_looping_function(basic_list)\n",
    "\n",
    "    ```\n",
    "Write down any bugs that you see in this program.  \n",
    "<br>\n",
    "<br>\n",
    "<br>\n",
    "\n",
    "2. Read through the following code:\n",
    "\n",
    "    ```python\n",
    "    def my_nested_looping_function(a_list): \n",
    "\t    for i in range(0, len(a_list)): \n",
    "\t\t    value = a_list[a]\n",
    "\t\t    for j in range(0, i): \n",
    "\t\t    \tvalue += j \n",
    "\t\t    print(value)\n",
    "\n",
    "    basic_list = [1, 2, 3, 4]\n",
    "    my_nested_looping_function(basic_list)\n",
    "    ```\n",
    "Write down any bugs that you see in this program. \n",
    "<br>\n",
    "<br>\n",
    "<br>\n",
    "\n",
    "3. Go to the computer, type and fix the two above programs."
   ]
  },
  {
   "cell_type": "code",
   "execution_count": null,
   "metadata": {},
   "outputs": [],
   "source": []
  }
 ],
 "metadata": {
  "kernelspec": {
   "display_name": "Python 3",
   "language": "python",
   "name": "python3"
  },
  "language_info": {
   "codemirror_mode": {
    "name": "ipython",
    "version": 3
   },
   "file_extension": ".py",
   "mimetype": "text/x-python",
   "name": "python",
   "nbconvert_exporter": "python",
   "pygments_lexer": "ipython3",
   "version": "3.6.5"
  }
 },
 "nbformat": 4,
 "nbformat_minor": 2
}
