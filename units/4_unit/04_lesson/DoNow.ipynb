{
 "cells": [
  {
   "cell_type": "markdown",
   "metadata": {},
   "source": [
    "# Do Now 4.04\n",
    "\n",
    "## Part 1\n",
    "1. Type and run the following code: \n",
    "\n",
    "    ```python\n",
    "    # my_building is a representation of the apartments on each floor of my 3 story building\n",
    "    my_building = [\n",
    "    ['apt1a', 'apt1b', 'apt1c'],\n",
    "    ['apt2a', 'apt2b', 'apt2c'],\n",
    "    ['apt3a', 'apt3b', 'apt3c']\n",
    "    ]\n",
    "    print(\"first floor: \" + str(my_building[0]))\n",
    "    print(\"first floor, 3rd apartment: \" + str(my_building[0][2]))\n",
    "    ```\n",
    "\n",
    "    Write down what was printed. How you would access the 2nd apartment of the 3rd floor (`apt3b`)?\n",
    "<br>\n",
    "<br>\n",
    "<br>\n",
    "\n",
    "2. Write a for loop that iterates over `my_building` and prints out each value (apartment number). Describe what happened. \n",
    "<br>\n",
    "<br>\n",
    "<br>\n",
    "\n",
    "##Part 2\n",
    "\n",
    "1. Copy the following code into editor:\n",
    "\n",
    "    ```python\n",
    "    my_floor = ['apt1a', 'apt1b', 'apt1c']\n",
    "    ```\n",
    "\n",
    "    Write a function `apartments_on_floor`.  When given a list of apartments, `my_floor`, `apartments_on_floor` prints out each apartment. \n",
    "\n",
    "    <br>\n",
    "    <br>\n",
    "    <br>\n",
    "\n",
    "2. Copy the following code into the editor:\n",
    "\n",
    "    ```python\n",
    "    my_building = [\n",
    "    ['apt1a', 'apt1b', 'apt1c'],\n",
    "    ['apt2a', 'apt2b', 'apt2c'],\n",
    "    ['apt3a', 'apt3b', 'apt3c']\n",
    "    ]\n",
    "    ```\n",
    "    Write a function  `apartments_in_building`. `apartments_in_building` prints out every apartment in the building. Use your function `apartments_on_floor`. \n",
    "<br>\n",
    "<br>\n",
    "<br>\n"
   ]
  },
  {
   "cell_type": "code",
   "execution_count": null,
   "metadata": {},
   "outputs": [],
   "source": []
  }
 ],
 "metadata": {
  "kernelspec": {
   "display_name": "Python 3",
   "language": "python",
   "name": "python3"
  },
  "language_info": {
   "codemirror_mode": {
    "name": "ipython",
    "version": 3
   },
   "file_extension": ".py",
   "mimetype": "text/x-python",
   "name": "python",
   "nbconvert_exporter": "python",
   "pygments_lexer": "ipython3",
   "version": "3.6.5"
  }
 },
 "nbformat": 4,
 "nbformat_minor": 2
}
