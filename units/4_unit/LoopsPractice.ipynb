{
 "cells": [
  {
   "cell_type": "markdown",
   "metadata": {},
   "source": [
    "# For Loops\n",
    "\n",
    "```python\n",
    "for item in collection:\n",
    "    # Do work with item\n",
    "    print(item)\n",
    "```\n",
    "- collection is often a list or range() (which returns a list of numbers)\n",
    "- must indent line after for"
   ]
  },
  {
   "cell_type": "code",
   "execution_count": null,
   "metadata": {},
   "outputs": [],
   "source": [
    "# An example that works to print all numbers in a list of primes\n",
    "primes = [2, 3, 5, 7]\n",
    "for prime in primes:\n",
    "    print(prime)"
   ]
  },
  {
   "cell_type": "code",
   "execution_count": null,
   "metadata": {},
   "outputs": [],
   "source": [
    "# Change the following code to print numbers 0, 1, 2, 3\n",
    "for x in range(5):\n",
    "    print(x)"
   ]
  },
  {
   "cell_type": "code",
   "execution_count": null,
   "metadata": {},
   "outputs": [],
   "source": [
    "# Fix the following code to sum all of the numbers in the list\n",
    "# How do you add two numbers?\n",
    "int_list = [1, 2, 3, 4, 5, 6]\n",
    "total = 0\n",
    "for number in int_list:\n",
    "    number\n",
    "print(\"The sum of numbers is: \", total)"
   ]
  },
  {
   "cell_type": "code",
   "execution_count": null,
   "metadata": {},
   "outputs": [],
   "source": [
    "# Ask a neighbor three times for their favorite hobby\n",
    "hobbies = []\n",
    "for number in range(2):\n",
    "    # Ask a question here, how do you ask a question in Python?\n",
    "    # Append the result to the hobbies list\n",
    "print(\"Your three favorite hobbies are\", hobbies)"
   ]
  },
  {
   "cell_type": "code",
   "execution_count": null,
   "metadata": {},
   "outputs": [],
   "source": [
    "numbers = [0, 254, 2, -1, 3]\n",
    "# Break the loop if a number is less than 0\n",
    "for num in numbers:\n",
    "    # use an if statement to check if number is less than zero here\n",
    "        print(\"Negative number detected!\")\n",
    "        break # just like while statements, we can break for loops!\n",
    "    print(num)"
   ]
  },
  {
   "cell_type": "code",
   "execution_count": null,
   "metadata": {},
   "outputs": [],
   "source": [
    "# Create a loop that counts from 0 to 100"
   ]
  },
  {
   "cell_type": "code",
   "execution_count": null,
   "metadata": {},
   "outputs": [],
   "source": [
    "# Create a loop that sums the numbers from 100 to 200, remember the range() function!"
   ]
  },
  {
   "cell_type": "code",
   "execution_count": null,
   "metadata": {},
   "outputs": [],
   "source": [
    "# Change the while loop to a for loop\n",
    "number = 2  \n",
    "\n",
    "while number < 5 :\n",
    "    print(\"Thank you\")\n",
    "    # Increment `number` by 1\n",
    "    number = number + 1"
   ]
  },
  {
   "cell_type": "code",
   "execution_count": null,
   "metadata": {},
   "outputs": [],
   "source": [
    "# How would you print out only apt2b, remember use [] to \"look into\" a list\n",
    "# How would you use [] to look into a list of lists? Hint: you can do [][]\n",
    "my_building = [\n",
    "['apt1a', 'apt1b', 'apt1c'],\n",
    "['apt2a', 'apt2b', 'apt2c'],\n",
    "['apt3a', 'apt3b', 'apt3c']\n",
    "]"
   ]
  },
  {
   "cell_type": "code",
   "execution_count": null,
   "metadata": {},
   "outputs": [],
   "source": [
    "# Use a for loop inside of a for loop (nested) to print each apartment on a separate line, remember to indent!\n",
    "my_building = [\n",
    "['apt1a', 'apt1b', 'apt1c'],\n",
    "['apt2a', 'apt2b', 'apt2c'],\n",
    "['apt3a', 'apt3b', 'apt3c']\n",
    "]\n",
    "# output should be\n",
    "# apt1a\n",
    "# apt1b\n",
    "# apt1c\n",
    "# apt2a\n",
    "# apt2b\n",
    "# apt2c\n",
    "# apt3a\n",
    "# apt3b\n",
    "# apt3c"
   ]
  }
 ],
 "metadata": {
  "kernelspec": {
   "display_name": "Python 3",
   "language": "python",
   "name": "python3"
  },
  "language_info": {
   "codemirror_mode": {
    "name": "ipython",
    "version": 3
   },
   "file_extension": ".py",
   "mimetype": "text/x-python",
   "name": "python",
   "nbconvert_exporter": "python",
   "pygments_lexer": "ipython3",
   "version": "3.6.5"
  }
 },
 "nbformat": 4,
 "nbformat_minor": 2
}
