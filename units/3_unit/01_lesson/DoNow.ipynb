{
 "cells": [
  {
   "cell_type": "markdown",
   "metadata": {},
   "source": [
    "# Do Now 3.01\n",
    "\n",
    "Type the following code into the editor and run the program. \n",
    "\n",
    "```python\n",
    "import random\n",
    "random.randint(0, 3)\n",
    "random.randint(0, 3)\n",
    "print(random.randint(0, 3))\n",
    "print(random.randint(0, 3))\n",
    "print(random.randint(0, 3))\n",
    "```\n",
    "\n",
    "What does randint do?\n",
    "<br>\n",
    "<br>\n",
    "<br>\n",
    "What do the values `0` and `3` do? Try changing those numbers, rerun the program, and write down what changed.\n",
    "<br>\n",
    "<br>\n",
    "<br>\n",
    "What is the difference between `random.randint(0,3)` and `print(random.randint(0,3))`? \n",
    "<br>\n",
    "<br>\n",
    "<br>\n",
    "\n",
    "\n",
    "\n"
   ]
  },
  {
   "cell_type": "code",
   "execution_count": null,
   "metadata": {},
   "outputs": [],
   "source": []
  }
 ],
 "metadata": {
  "kernelspec": {
   "display_name": "Python 3",
   "language": "python",
   "name": "python3"
  },
  "language_info": {
   "codemirror_mode": {
    "name": "ipython",
    "version": 3
   },
   "file_extension": ".py",
   "mimetype": "text/x-python",
   "name": "python",
   "nbconvert_exporter": "python",
   "pygments_lexer": "ipython3",
   "version": "3.6.5"
  }
 },
 "nbformat": 4,
 "nbformat_minor": 2
}
