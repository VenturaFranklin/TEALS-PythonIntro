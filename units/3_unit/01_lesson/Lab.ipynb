{
 "cells": [
  {
   "cell_type": "markdown",
   "metadata": {},
   "source": [
    "Lab 3.01 - Magic 8-Ball\n",
    "====================================================================================================\n",
    "**Practice importing random** — Use `randint` with different arguments. Simulate a dice roll,\n",
    "printing out to the user what number they rolled.\n",
    "\n",
    "**Look at the [documentation] of the random library** — Experiment with another function (not\n",
    "`randint`) that returns a value.\n",
    "\n",
    "**Create a program that simulates a [magic 8-ball]** — Store all of the 8-ball's possible responses\n",
    "(shown below) in a list. Have the program prompt the user to ask the magic 8-ball a question, and\n",
    "then return and print a random response.\n",
    "\n",
    "Magic 8-Ball Response Examples\n",
    "-------------------------------\n",
    "  * Outlook is good\n",
    "  * Ask again later\n",
    "  * Yes\n",
    "  * No\n",
    "  * Most likely no\n",
    "  * Most likely yes\n",
    "  * Maybe\n",
    "  * Outlook is not good\n",
    "\n",
    "Bonus!\n",
    "-------\n",
    "Research the math library and create a program that finds the length of the hypotenuse of a right\n",
    "triangle given two sides.\n",
    "\n",
    "\n",
    "\n",
    "[documentation]: https://docs.python.org/3/library/random.html\n",
    "[magic 8-ball]:  https://en.wikipedia.org/wiki/Magic_8-Ball\n"
   ]
  },
  {
   "cell_type": "code",
   "execution_count": null,
   "metadata": {},
   "outputs": [],
   "source": []
  }
 ],
 "metadata": {
  "kernelspec": {
   "display_name": "Python 3",
   "language": "python",
   "name": "python3"
  },
  "language_info": {
   "codemirror_mode": {
    "name": "ipython",
    "version": 3
   },
   "file_extension": ".py",
   "mimetype": "text/x-python",
   "name": "python",
   "nbconvert_exporter": "python",
   "pygments_lexer": "ipython3",
   "version": "3.6.5"
  }
 },
 "nbformat": 4,
 "nbformat_minor": 2
}
