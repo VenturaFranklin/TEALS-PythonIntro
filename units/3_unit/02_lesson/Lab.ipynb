{
 "cells": [
  {
   "cell_type": "markdown",
   "metadata": {},
   "source": [
    "# Lab 3.02 - Birthday Song & Random Cards\n",
    "\n",
    "1) Create a function, `birthday_song`, that prints out the happy birthday song to whatever name is input as an argument. The contract should be: \n",
    "\n",
    "```python\n",
    "# Name: birthday_song\n",
    "# Purpose: birthday_song prints out a personalized birthday song\n",
    "# Input: name, string \n",
    "# Returns: none\n",
    "def birthday_song(name): \n",
    "\t#your code goes here \n",
    "```\n",
    "\n",
    "2) Create a function that randomly picks 5 cards from a deck. The cards can repeat. Instead of creating a string for each card it might be useful to have two lists and pick randomly from both the lists. Write out the contract for this function:\n",
    "\n",
    "```python\n",
    "number = ['A', '2', '3', '4', '5', '6', '7', '8', '9', '10', 'J', 'Q', 'K']\n",
    "suit = ['Spades', 'Clubs', 'Diamonds', 'Hearts']\n",
    "```\n",
    "\n",
    "###Bonus!\n",
    "Practice passing in lists as an argument to a function. What is different about passing in a list as an argument?\n",
    "Read about list aliasing in section 3.4 of the associated reading, and write down what is happening in this case.\n"
   ]
  },
  {
   "cell_type": "code",
   "execution_count": null,
   "metadata": {},
   "outputs": [],
   "source": []
  }
 ],
 "metadata": {
  "kernelspec": {
   "display_name": "Python 3",
   "language": "python",
   "name": "python3"
  },
  "language_info": {
   "codemirror_mode": {
    "name": "ipython",
    "version": 3
   },
   "file_extension": ".py",
   "mimetype": "text/x-python",
   "name": "python",
   "nbconvert_exporter": "python",
   "pygments_lexer": "ipython3",
   "version": "3.6.5"
  }
 },
 "nbformat": 4,
 "nbformat_minor": 2
}
