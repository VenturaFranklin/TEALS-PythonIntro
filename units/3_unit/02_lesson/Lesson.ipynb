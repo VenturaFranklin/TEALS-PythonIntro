{
 "cells": [
  {
   "cell_type": "markdown",
   "metadata": {},
   "source": [
    "# Lesson 3.02: User-Defined Functions\n",
    "\n",
    "## Learning Objectives\n",
    "Students will be able to... \n",
    "* Define and identify: **abstraction, def**\n",
    "* Create functions\n",
    "\n",
    "## Materials/Preparation\n",
    "* [Do Now]\n",
    "* [Lab - Birthday Song & Random Cards]\n",
    "* Associated Reading - section 3.2 of Book\n",
    "* Read through the do now, lesson, and lab so that you are familiar with the requirements and can assist students.\n",
    "\n",
    "## Pacing Guide\n",
    "| **Duration**   | **Description** |\n",
    "| ---------- | ----------- |\n",
    "| 5 Minutes  | Do Now      |\n",
    "| 10 Minutes | Lesson      |\n",
    "| 35 Minutes | Lab         |\n",
    "| 5 Minutes | Debrief  |\n",
    "\n",
    "## Instructor's Notes\n",
    "1. **Do Now**\n",
    "    * Students should take 5 minutes to follow the instructions on the Do Now in order to create/manipulate a user-defined function.  \n",
    "2. **Lesson**\n",
    "    * Ask students to brainstorm why, in general, a function might be useful in programming.\n",
    "        * **Abstraction**: managing the complexity of a program by removing details and pushing them down to a lower level\n",
    "        * Less repeated code.\n",
    "        * Breaking the problem up into smaller pieces and solving each piece\n",
    "    * Demonstrate to students how you create a function using *def*, calling out the syntax and where arguments would go.\n",
    "        * Ask students how they would call your example function.\n",
    "    * Have students practice making a function that takes two arguments, adds them together, and returns the sum. \n",
    "    * Introduce the concept of a function contract using `#`, which adds a comment (non-executed line of code)\n",
    "        * The function contract should \n",
    "            * specify the name\n",
    "            * explain the purpose\n",
    "            * list what arguments it takes in and the types of those arguments\n",
    "            * specify the return type\n",
    "3. **Lab**\n",
    "    * Practice making a function that will take in a name as an argument and output the 'happy birthday song' to that name. \n",
    "    * Create a function that randomly selects 5 cards from a deck of cards (repeating allowed).\n",
    "4. **Debrief**\n",
    "    * Check student progress and completion of the lab, wrap up by taking any final questions. \n",
    "\n",
    "### Accommodation/Differentiation\n",
    "\n",
    "If students are moving quickly, they could go back and use functions to improve an old project.\n",
    "\n",
    "## Forum discussion\n",
    "[Lesson 3.02: User-Defined Functions (TEALS Discourse Account Required)](https://forums.tealsk12.org/c/2nd-semester-unit-3-functions/lesson-3-02-user-defined-functions)\n",
    "  \n",
    "\n",
    "[Do Now]:do_now.md\n",
    "[Lab - Birthday Song & Random Cards]:lab.md\n"
   ]
  },
  {
   "cell_type": "code",
   "execution_count": null,
   "metadata": {},
   "outputs": [],
   "source": []
  }
 ],
 "metadata": {
  "kernelspec": {
   "display_name": "Python 3",
   "language": "python",
   "name": "python3"
  },
  "language_info": {
   "codemirror_mode": {
    "name": "ipython",
    "version": 3
   },
   "file_extension": ".py",
   "mimetype": "text/x-python",
   "name": "python",
   "nbconvert_exporter": "python",
   "pygments_lexer": "ipython3",
   "version": "3.6.5"
  }
 },
 "nbformat": 4,
 "nbformat_minor": 2
}
