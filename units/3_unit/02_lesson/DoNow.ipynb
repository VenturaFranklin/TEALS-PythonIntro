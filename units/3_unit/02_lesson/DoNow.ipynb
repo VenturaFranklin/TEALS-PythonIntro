{
 "cells": [
  {
   "cell_type": "markdown",
   "metadata": {},
   "source": [
    "# Do Now 3.02\n",
    "\n",
    "Open up the console. Type the following code. \n",
    "\n",
    "```python\n",
    "def my_function(): \n",
    "\tprint(\"THIS IS MY FUNCTION!\")\n",
    "```\n",
    "\n",
    "What does `my_function` do? \n",
    "<br>\n",
    "<br>\n",
    "<br>\n",
    "\n",
    "How would you call the function? Practice calling `my_function` and checking that it does what you expect it to.\n",
    "<br>\n",
    "<br>\n",
    "<br>\n",
    "\n",
    "How would you add arguments to `my_function`? \n",
    "<br>\n",
    "<br>\n",
    "<br>\n"
   ]
  },
  {
   "cell_type": "code",
   "execution_count": null,
   "metadata": {},
   "outputs": [],
   "source": []
  }
 ],
 "metadata": {
  "kernelspec": {
   "display_name": "Python 3",
   "language": "python",
   "name": "python3"
  },
  "language_info": {
   "codemirror_mode": {
    "name": "ipython",
    "version": 3
   },
   "file_extension": ".py",
   "mimetype": "text/x-python",
   "name": "python",
   "nbconvert_exporter": "python",
   "pygments_lexer": "ipython3",
   "version": "3.6.5"
  }
 },
 "nbformat": 4,
 "nbformat_minor": 2
}
