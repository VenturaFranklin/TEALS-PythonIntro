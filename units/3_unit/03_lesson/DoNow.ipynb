{
 "cells": [
  {
   "cell_type": "markdown",
   "metadata": {},
   "source": [
    "# Do Now 3.03\n",
    "\n",
    "Open up the console. Paste the following code into the editor:\n",
    "\n",
    "```python\n",
    "import random\n",
    "# inputs:  x (int), y (int)\n",
    "# outputs: int \n",
    "# 50% returns sum of x and y, 50% returns product of x and y\n",
    "def mystery_function(x, y):\n",
    "\trandom_number = random.randint(0,1)\n",
    "\tif random_number > 0: \n",
    "\t\tz = x + y \n",
    "\telse: \n",
    "\t\tz = x * y\n",
    "\treturn z\n",
    "mystery_function(1, 2)\n",
    "```\n",
    "\n",
    "What happens when your run this code? How do you know what the result was? \n",
    "<br>\n",
    "<br>\n",
    "<br>\n",
    "\n",
    "Keeping the function the same, rewrite the code to print out the value that the function returns.\n",
    "<br>\n",
    "<br>\n",
    "<br>\n"
   ]
  },
  {
   "cell_type": "code",
   "execution_count": null,
   "metadata": {},
   "outputs": [],
   "source": []
  }
 ],
 "metadata": {
  "kernelspec": {
   "display_name": "Python 3",
   "language": "python",
   "name": "python3"
  },
  "language_info": {
   "codemirror_mode": {
    "name": "ipython",
    "version": 3
   },
   "file_extension": ".py",
   "mimetype": "text/x-python",
   "name": "python",
   "nbconvert_exporter": "python",
   "pygments_lexer": "ipython3",
   "version": "3.6.5"
  }
 },
 "nbformat": 4,
 "nbformat_minor": 2
}
