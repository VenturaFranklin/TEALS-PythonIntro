{
 "cells": [
  {
   "cell_type": "markdown",
   "metadata": {},
   "source": [
    "# Lesson 3.03: Return vs Print\n",
    "\n",
    "## Learning Objectives\n",
    "Students will be able to... \n",
    "* Define and identify: **return, none, void**\n",
    "* Explain and demonstrate the difference between printing and returning\n",
    "\n",
    "## Materials/Preparation\n",
    "* [Do Now]\n",
    "* [Lab - War (Card Game)]\n",
    "* Associated Reading - section 3.3 of Book\n",
    "* Read through the do now, lesson, and lab so that you are familiar with the requirements and can assist students.\n",
    "* Note that this lesson may take two days.\n",
    "\n",
    "## Pacing Guide\n",
    "| **Duration**   | **Description** |\n",
    "| ---------- | ----------- |\n",
    "| 5 Minutes  | Do Now      |\n",
    "| 10 Minutes | Lesson      |\n",
    "| 35 Minutes | Lab         |\n",
    "| 5 Minutes | Debrief  |\n",
    "| **Day 2**  |             |\n",
    "| 10 Minutes | Recap & Review     | \n",
    "| 40 Minutes | Finish Lab  |\n",
    "| 5 Minutes | Debrief  |  \n",
    "\n",
    "## Instructor's Notes\n",
    "1. **Do Now**\n",
    "    * Students experiment with a function that returns a value, but they must add a print command to output that value. \n",
    "2. **Lesson**\n",
    "    * Ask students about what they think the difference between returning and printing is. \n",
    "        * Get a volunteer to describe how they rewrote the code in the Do Now to get a value output.\n",
    "        * Ask a student to write the code on the board. \n",
    "    * Discuss the concept of the function contract again, explaining that the functions we will work with have both inputs and outputs.\n",
    "    * Returning is a concept in Snap!, just with a different name: reporting. \n",
    "        * ![BJC Reporint](http://bjc.berkeley.edu/bjc-r/img/building-blocks/max-code-buggy.png) \n",
    "    * If students appear to be struggling with the return vs. print concept, try this activity: \n",
    "        * Students work together to build a structure using cards. One student volunteer represents the `give_card` function. This students holds the deck of cards and stands by the board. \n",
    "        * On the board display the `give_card` function in code code that only **prints** the value of a randomly chosen card. Students 'call' the student and request cards, which then the student follows the instructions and draws ('prints') the card on the board.\n",
    "        * Next display a new `give_card` function that **returns** a card instead. Have students 'call' the function, however this time have the `give_card` student pass out the card when a student calls him/her. \n",
    "    \t* Debrief the activity and talk about what was learned. \n",
    "3. **Lab**\n",
    "    * Given a shuffled deck list, students will create a program that plays the game 'War' with the user. \n",
    "    \n",
    "4. **Debrief**\n",
    "    * Check student progress and completion of the lab, wrap up by taking any final questions.\n",
    "\n",
    "\n",
    "### Accommodation/Differentiation\n",
    "As an extension activity, ask students to research the shuffle function and the functions associated with it.\n",
    "\n",
    "## Forum discussion\n",
    "[Lesson 3.03: Return vs Print (TEALS Discourse Account Required)](https://forums.tealsk12.org/c/2nd-semester-unit-3-functions/lesson-3-03-return-vs-print)\n",
    "\n",
    "  \n",
    "\n",
    "[Do Now]:do_now.md\n",
    "[Lab - War (Card Game)]:lab.md\n"
   ]
  },
  {
   "cell_type": "code",
   "execution_count": null,
   "metadata": {},
   "outputs": [],
   "source": []
  }
 ],
 "metadata": {
  "kernelspec": {
   "display_name": "Python 3",
   "language": "python",
   "name": "python3"
  },
  "language_info": {
   "codemirror_mode": {
    "name": "ipython",
    "version": 3
   },
   "file_extension": ".py",
   "mimetype": "text/x-python",
   "name": "python",
   "nbconvert_exporter": "python",
   "pygments_lexer": "ipython3",
   "version": "3.6.5"
  }
 },
 "nbformat": 4,
 "nbformat_minor": 2
}
