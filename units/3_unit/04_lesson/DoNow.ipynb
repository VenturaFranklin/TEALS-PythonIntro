{
 "cells": [
  {
   "cell_type": "markdown",
   "metadata": {},
   "source": [
    "# Do Now 3.04\n",
    "\n",
    "Rank the following from easiest to hardest: \n",
    "\n",
    "1. Importing built-in functions\n",
    "2. Using `randint`\n",
    "3. Abstraction/creating functions\n",
    "4. Passing int/str/float/bool arguments into functions\n",
    "5. Calling a function \n",
    "6. List syntax\n",
    "7. Return vs print \n",
    "\n",
    "We will have a quiz next class covering all of the above topics. Is there any topic you would like to focus on and cover more of? <br><br>\n",
    "\n",
    "Type the following into the console: \n",
    "\n",
    "```python\n",
    "my_list = ['a', 'b', 'c', 'd']\n",
    "# input: a list of strings\n",
    "# output: None\n",
    "def my_function(list_argument): \n",
    "\tlist_argument[0] = 'z'\n",
    "print(my_list)\n",
    "my_function(my_list)\n",
    "print(my_list)\n",
    "```\n",
    "What happened? Try writing a similar program but passing in integers instead of a list. What happens? \n",
    "<br>\n",
    "<br>\n",
    "<br>\n"
   ]
  },
  {
   "cell_type": "code",
   "execution_count": null,
   "metadata": {},
   "outputs": [],
   "source": []
  }
 ],
 "metadata": {
  "kernelspec": {
   "display_name": "Python 3",
   "language": "python",
   "name": "python3"
  },
  "language_info": {
   "codemirror_mode": {
    "name": "ipython",
    "version": 3
   },
   "file_extension": ".py",
   "mimetype": "text/x-python",
   "name": "python",
   "nbconvert_exporter": "python",
   "pygments_lexer": "ipython3",
   "version": "3.6.5"
  }
 },
 "nbformat": 4,
 "nbformat_minor": 2
}
