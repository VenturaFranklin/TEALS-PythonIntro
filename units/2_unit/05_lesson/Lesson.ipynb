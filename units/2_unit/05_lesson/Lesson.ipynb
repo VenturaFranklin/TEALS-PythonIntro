{
 "cells": [
  {
   "cell_type": "markdown",
   "metadata": {},
   "source": [
    "# Lesson 2.05: Lists\n",
    "\n",
    "## Learning Objectives\n",
    "Students will be able to... \n",
    "* Define and identify: **list, item, index, integer**\n",
    "* Be able to access items from a list using the index\n",
    "* Create lists of different types\n",
    "* Use the length function\n",
    "\n",
    "## Materials/Preparation\n",
    "* [Do Now]\n",
    "* [Lab - College Chooser]\n",
    "* Solution (access protected resources by clicking on \"Additional Curriculum Materials\" on the [TEALS Dashboard])\n",
    "* Associated Reading - section 2.4 of Book\n",
    "* Read through the do now, lesson, and lab so that you are familiar with the requirements and can assist students\n",
    "\n",
    "## Pacing Guide\n",
    "| **Duration**   | **Description** |\n",
    "| ---------- | ----------- |\n",
    "| 5 Minutes  | Do Now      |\n",
    "| 10 Minutes | Lesson      |\n",
    "| 35 Minutes | Lab         |\n",
    "| 5 Minutes | Debrief  |\n",
    "\n",
    "## Instructor's Notes\n",
    "\n",
    "1. **Do Now**\n",
    "    * Students follow instructions to create lists and use the `len` function. \n",
    "2. **Lesson**\n",
    "  * Ask students to recall what a list is, and how lists were used in Snap!\n",
    "    * A **list** is a sequence of values. In a list, they can be any type. The values in a list are called elements or **items**.\n",
    "    * In Python, to create a list you must enclose items in square brackets.\n",
    "    * Emphasize that you can have lists of any type (int, float, string, etc). You can even have lists within lists (more on that later...)\n",
    "    * Remind students of lists in Snap! \n",
    "\n",
    "    ![lists in snap](http://bjc.edc.org/bjc-r/img/3-lists/wordlists.png)\n",
    "  * Ask students what `len` does when they used it in the Do Now. \n",
    "  * Ask students how they tried to print the first item from a list. Was this what they were expecting? \n",
    "    * **index**: a map from the position in the list to the element stored there. \n",
    "    * 0-index: lists are 0 indexed. So the first element in the list is at the 0-index\n",
    "    * Out-of-bounds: what happened when you tried to index into a list that was too long?\n",
    "    * Snap Equivalent: ![snap indexing](http://bjc.edc.org/bjc-r/img/3-lists/gs5how_many.png)\n",
    "    * Ask students how they would access the last item in a list of unknown length. (Use the length function!) \n",
    "        * Ask students to write on the board how they got the last element of a list. Ask another student to write how they would get the second to last element of the list and so on. \n",
    "    * After accessing any list element you can change it. Take a moment to demonstrate this syntax before starting the lab. \n",
    "3. **Lab**\n",
    "    * Practice accessing and updating items in a list\n",
    "    * Implement program from last lab using lists\n",
    "    * Create a quiz program\n",
    "4. **Debrief**\n",
    "    * Check student progress and completion of the lab, wrap up by taking any final questions.\n",
    "\n",
    "### Accommodation/Differentiation\n",
    "If students are moving quickly, you can introduce the topic of nested lists. Start off with a simple nested list like `['a', 'b', 'c', [1, 2, 3]]`. Ask the students to guess the length. Ask the students to guess how they would access the item '1' from that list! \n",
    "\n",
    "## Forum discussion\n",
    "[Lesson 2.05: Lists (TEALS Discourse Account Required)](https://forums.tealsk12.org/c/2nd-semester-unit-2/lesson-2-05-lists)\n",
    "  \n",
    "[Do Now]:do_now.md\n",
    "[Lab - College Chooser]:lab.md\n",
    "[TEALS Dashboard]:http:/www.tealsk12.org/dashboard\n"
   ]
  },
  {
   "cell_type": "code",
   "execution_count": null,
   "metadata": {},
   "outputs": [],
   "source": []
  }
 ],
 "metadata": {
  "kernelspec": {
   "display_name": "Python 3",
   "language": "python",
   "name": "python3"
  },
  "language_info": {
   "codemirror_mode": {
    "name": "ipython",
    "version": 3
   },
   "file_extension": ".py",
   "mimetype": "text/x-python",
   "name": "python",
   "nbconvert_exporter": "python",
   "pygments_lexer": "ipython3",
   "version": "3.6.5"
  }
 },
 "nbformat": 4,
 "nbformat_minor": 2
}
