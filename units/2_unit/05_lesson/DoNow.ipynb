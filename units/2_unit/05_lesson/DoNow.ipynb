{
 "cells": [
  {
   "cell_type": "markdown",
   "metadata": {},
   "source": [
    "# Do Now 2.05\n",
    "\n",
    "Open up the console. Type the following code. \n",
    "```python\n",
    " a_list = ['a', 'b', 'c', 'd', 'e']\n",
    " print(len(a_list))\n",
    " \n",
    "```\n",
    "What type do you think a_list is? (Hint: look at the name of the variable)\n",
    "<br>\n",
    "<br>\n",
    "<br>\n",
    "\n",
    "What does `len` do? \n",
    "<br>\n",
    "<br>\n",
    "<br>\n",
    "\n",
    "\n",
    "Brainstorm how you would print the first element from `a_list`?\n",
    "<br>\n",
    "<br>\n",
    "<br>\n",
    "\n",
    "Type the following into the console. What happens? \n",
    "```python\n",
    " a_list = ['a', 'b', 'c', 'd', 'e']\n",
    " print(a_list[0])\n",
    " print(a_list[1])\n",
    " print(a_list[2])\n",
    " print(a_list[3])\n",
    " print(a_list[4])\n",
    " print(a_list[5])\n",
    " print(a_list[6])\n",
    "```"
   ]
  },
  {
   "cell_type": "code",
   "execution_count": null,
   "metadata": {},
   "outputs": [],
   "source": []
  }
 ],
 "metadata": {
  "kernelspec": {
   "display_name": "Python 3",
   "language": "python",
   "name": "python3"
  },
  "language_info": {
   "codemirror_mode": {
    "name": "ipython",
    "version": 3
   },
   "file_extension": ".py",
   "mimetype": "text/x-python",
   "name": "python",
   "nbconvert_exporter": "python",
   "pygments_lexer": "ipython3",
   "version": "3.6.5"
  }
 },
 "nbformat": 4,
 "nbformat_minor": 2
}
