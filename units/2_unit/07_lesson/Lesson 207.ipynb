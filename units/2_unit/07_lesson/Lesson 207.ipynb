{
 "cells": [
  {
   "cell_type": "markdown",
   "metadata": {},
   "source": [
    "# Lesson 2.07: Game Loop\n",
    "\n",
    "## Learning Objectives\n",
    "Students will be able to... \n",
    "* Define and identify: **while loop**\n",
    "* Use a while loop to simulate game play\n",
    "\n",
    "## Materials/Preparation\n",
    "* [Do Now]\n",
    "* [Lab - Tic-Tac-Toe Revisited]\n",
    "* Associated Reading - section 2.7 of Book\n",
    "* Read through the do now, lesson, and lab so that you are familiar with the requirements and can assist students\n",
    "\n",
    "## Pacing Guide\n",
    "| **Duration**   | **Description** |\n",
    "| ---------- | ----------- |\n",
    "| 5 Minutes  | Do Now      |\n",
    "| 10 Minutes | Lesson      |\n",
    "| 35 Minutes | Lab         |\n",
    "| 5 Minutes | Debrief  |\n",
    "\n",
    "## Instructor's Notes\n",
    "1. **Do Now**\n",
    "    * Students experiment with creating `while` loops.\n",
    "2. **Lesson**\n",
    "  * Ask students what the `while` loops that they created did. \n",
    "    * Go over the syntax of `while` loops. Use this as an opportunity to remind students of **boolean expressions**.\n",
    "        * Ask: how might while loops be useful?\n",
    "    * Ask students to consider how they could write a loop using user input, using the following scenario:\n",
    "        * What if you wanted the loop to stop when the user inputs \"quit\"? \n",
    "        * Have the students think about and write a solution, then call students up to the board to write out how they solved it.\n",
    "3. **Lab**\n",
    "    * Students work to create a Tic-Tac-Toe game that allows turns (up to 9), building on their previous work.\n",
    "4. **Debrief**\n",
    "    * Check for completion and understanding of the lab. \n",
    "### Accommodation/Differentiation\n",
    "\n",
    "If there is extra time, have students start reading through the project specs and thinking about how they will apply what they have learned this unit to complete the project.\n",
    "\n",
    "## Forum discussion\n",
    "[Lesson 2:07: Game Loop (TEALS Discourse Account Required)](https://forums.tealsk12.org/c/2nd-semester-unit-2/lesson-2-07-game-loop)\n",
    "  \n",
    "[Do Now]:do_now.md\n",
    "[Lab - Tic-Tac-Toe Revisited]:lab.md\n"
   ]
  },
  {
   "cell_type": "code",
   "execution_count": null,
   "metadata": {},
   "outputs": [],
   "source": []
  }
 ],
 "metadata": {
  "kernelspec": {
   "display_name": "Python 3",
   "language": "python",
   "name": "python3"
  },
  "language_info": {
   "codemirror_mode": {
    "name": "ipython",
    "version": 3
   },
   "file_extension": ".py",
   "mimetype": "text/x-python",
   "name": "python",
   "nbconvert_exporter": "python",
   "pygments_lexer": "ipython3",
   "version": "3.6.5"
  }
 },
 "nbformat": 4,
 "nbformat_minor": 2
}
