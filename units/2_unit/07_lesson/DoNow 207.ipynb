{
 "cells": [
  {
   "cell_type": "markdown",
   "metadata": {},
   "source": [
    "# Do Now 2.07\n",
    "\n",
    "How would you print out something 10 times? What about 100? What about 1,000?\n",
    "<br>\n",
    "<br>\n",
    "<br>\n",
    "\n",
    "Open up the console. Type the following code using interactive mode. \n",
    "\n",
    "```python\n",
    "while True: \n",
    "    print('a')\n",
    "    ```\n",
    "What happens when you run this code?\n",
    "<br><br>\n",
    "\n",
    "Try using other Boolean expressions instead of `True` (e.g. `4 > 5` and `9 != 2`), and explore what happens.\n"
   ]
  },
  {
   "cell_type": "code",
   "execution_count": null,
   "metadata": {},
   "outputs": [],
   "source": []
  }
 ],
 "metadata": {
  "kernelspec": {
   "display_name": "Python 3",
   "language": "python",
   "name": "python3"
  },
  "language_info": {
   "codemirror_mode": {
    "name": "ipython",
    "version": 3
   },
   "file_extension": ".py",
   "mimetype": "text/x-python",
   "name": "python",
   "nbconvert_exporter": "python",
   "pygments_lexer": "ipython3",
   "version": "3.6.5"
  }
 },
 "nbformat": 4,
 "nbformat_minor": 2
}
