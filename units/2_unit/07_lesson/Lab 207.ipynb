{
 "cells": [
  {
   "cell_type": "markdown",
   "metadata": {},
   "source": [
    "# Lab 2.07 - Tic-Tac-Toe Revisited\n",
    "\n",
    "1) For each example below, predict what will be printed. Next, run the program and confirm.\n",
    "\n",
    "```python\n",
    "    a = 0\n",
    "    while a < 10: \n",
    "        print(a)\n",
    "```\n",
    "| **Predicted Output** | **Actual Output** |\n",
    "| --- | --- |\n",
    "|<br> |<br> | \n",
    "\n",
    "```python\n",
    "    a = 0\n",
    "    while a < 10: \n",
    "        a = a + 1\n",
    "        print(a)\n",
    "```\n",
    "| **Predicted Output** | **Actual Output** |\n",
    "| --- | --- |\n",
    "|<br> |<br> | \n",
    "\n",
    "\n",
    "Create a set of test cases for the following sample code and predict the behavior.  \n",
    "```python\n",
    "    a = input(\"Would you like to quit: \")\n",
    "    while a != \"y\" and a != \"n\" :\n",
    "        a = input(\"Would you like to quit: \")\n",
    "```\n",
    "| **Predicted Output** | **Actual Output** |\n",
    "| --- | --- |\n",
    "|<br> |<br> | \n",
    "\n",
    "2) Remember the Tic-Tac-Toe game we started to create last week? We are going to keep implementing the game using a while loop.\n",
    "\n",
    "* Allow users to keep playing (max 9 times).\n",
    "* Use variables to decide whose turn it is, and greet them as Xs or Os.\n",
    "* User picks a location on the board according to the number: \n",
    "![tic-tac-toe](https://encrypted-tbn3.gstatic.com/images?q=tbn:ANd9GcRrA_MowUM-KZXl1CpkrQhi8W505dM3cxZG1787i9qFz8KefqFkIQ)\n",
    "* Depending on the position user gave, update the corresponding position of the board to reflect that.\n",
    "* Print the updated board out.\n",
    "* You will not need to determine the winner at this point, we will revisit this again and complete the game in Unit 4!\n",
    "\n",
    "###Bonus! \n",
    "Create a variable-sized board. So instead of a classic 3 x 3 board, create a way for the user specify the size of the board they want to play with. \n"
   ]
  },
  {
   "cell_type": "code",
   "execution_count": null,
   "metadata": {},
   "outputs": [],
   "source": []
  }
 ],
 "metadata": {
  "kernelspec": {
   "display_name": "Python 3",
   "language": "python",
   "name": "python3"
  },
  "language_info": {
   "codemirror_mode": {
    "name": "ipython",
    "version": 3
   },
   "file_extension": ".py",
   "mimetype": "text/x-python",
   "name": "python",
   "nbconvert_exporter": "python",
   "pygments_lexer": "ipython3",
   "version": "3.6.5"
  }
 },
 "nbformat": 4,
 "nbformat_minor": 2
}
