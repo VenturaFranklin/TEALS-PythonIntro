{
 "cells": [
  {
   "cell_type": "markdown",
   "metadata": {},
   "source": [
    "# Lesson 2.08: Project 2\n",
    "\n",
    "## Learning Objectives\n",
    "Students will be able to... \n",
    "* Use knowledge of lists, booleans, conditionals, and while loops to create a text-based adventure game. \n",
    "\n",
    "## Materials/Preparation\n",
    "* [Project Spec - Text Monster]\n",
    "* Solution (access protected resources by clicking on \"Additional Curriculum Materials\" on the [TEALS Dashboard])\n",
    "* [Text Monster Game - Example Code]\n",
    "* Update the Project Spec as needed to meet your grading requirements\n",
    "* Try creating your own variation on the Text Monster code so you are familiar with the potential challenges and bugs your students will hit.\n",
    "* Review [4 Steps to Solve Any CS Problem]\n",
    "\n",
    "## Pacing Guide\n",
    "\n",
    "#### Day 1\n",
    "| **Duration**   | **Description** |\n",
    "| ---------- | ----------- |\n",
    "| 10 Minutes | Project Overview/Demo|\n",
    "| 40 Minutes | Design      |\n",
    "| 5 Minutes | Debrief  |\n",
    "#### Days 2 - 9 \n",
    "| **Duration**   | **Description** |\n",
    "| ---------- | ----------- |\n",
    "| 10 Minutes | Review      |\n",
    "| 40 Minutes | Project Work|\n",
    "| 5 Minutes | Debrief  |\n",
    "\n",
    "## Instructor's Notes\n",
    "1. **4 Steps to Solve Any CS Problem** \n",
    "  * Review [4 Steps to Solve Any CS Problem]\n",
    "2. **Project Overview/Demo** \n",
    "  * Distribute the project spec to all students and walk them through the goals and requirements of the project. \n",
    "  * Show a demo of a completed project.\n",
    "  * Go over specific design considerations from the project spec: \n",
    "    * Draw out a game board using lists and a variable saving the current floor. Have students call out moves and practice going through a game. (Note using lists of lists ended up being too much info to cover here. If you think the students are ready it would make more sense design wise)\n",
    "    * Introduce the concept of global variables and how they will be useful here.\n",
    "    * Identify the importance of the \"User Pocket\" and how to use a list along with `append` and `remove` for this information.\n",
    "3. **Design**\n",
    "    * Have students stay at their desks and write down what lists they'll need. \n",
    "    * They should break up the project into parts: parsing user input, keeping track of players position, returning what is at the player's position .\n",
    "4. **Debrief/Review**\n",
    "    * During discussion and warp up at the end of class, get a feeling for where students are in the project. \n",
    "    * During the review the next morning cover the topics/areas that students are struggling on and present tips, suggestions, and goals for that day.\n",
    "\n",
    "### Accommodation/Differentiation\n",
    "Make sure to do status checks with all students throughout the project. Identify students that are struggling on the project after the first few days and provide additional scaffolding & support as needed. \n",
    "<br><br>\n",
    "For any students that are advancing rapidly through the project, give them extension ideas such as adding a new feature or floor to the game. \n",
    "Advanced students can also be paired as tutors/helpers with struggling students.\n",
    "\n",
    "## Forum discussion\n",
    "[Lesson 2.08: Text Game (TEALS Discourse Account Required)](https://forums.tealsk12.org/c/2nd-semester-unit-2/lesson-2-08-text-game)\n",
    "    \n",
    "  \n",
    "[Project Spec - Text Monster]: project.md\n",
    "[Text Monster Game - Example Code]: project_file.py\n",
    "[TEALS Dashboard]:http:/www.tealsk12.org/dashboard\n",
    "[4 Steps to Solve Any CS Problem]:https://github.com/TEALS-IntroCS/2nd-semester-introduction-to-computer-science-principles/raw/master/units/4%20Steps%20to%20Solve%20Any%20CS%20Problem.pdf\n"
   ]
  },
  {
   "cell_type": "code",
   "execution_count": null,
   "metadata": {},
   "outputs": [],
   "source": []
  }
 ],
 "metadata": {
  "kernelspec": {
   "display_name": "Python 3",
   "language": "python",
   "name": "python3"
  },
  "language_info": {
   "codemirror_mode": {
    "name": "ipython",
    "version": 3
   },
   "file_extension": ".py",
   "mimetype": "text/x-python",
   "name": "python",
   "nbconvert_exporter": "python",
   "pygments_lexer": "ipython3",
   "version": "3.6.5"
  }
 },
 "nbformat": 4,
 "nbformat_minor": 2
}
