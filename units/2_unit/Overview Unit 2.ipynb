{
 "cells": [
  {
   "cell_type": "markdown",
   "metadata": {},
   "source": [
    "# Unit 2\n",
    "\n",
    "| Lesson                   |\n",
    "| ----------               | \n",
    "| [Binary Day]               |  \n",
    "| [Data Types and Casting]   |  \n",
    "| [Booleans and Expressions] |  \n",
    "| [Conditionals]             |  \n",
    "| [Lists]                    |  \n",
    "| [Lists(2)]                 |  \n",
    "| [Lists Recap]              |  \n",
    "| [Game Loop]                |  \n",
    "| [Project]                  | \n",
    "\n",
    "[Binary Day]:https://tealsk12.gitbook.io/intro-cs-2/unit2_md/lesson             \n",
    "[Data Types and Casting]:https://tealsk12.gitbook.io/intro-cs-2/unit2_md/lesson-1  \n",
    "[Booleans and Expressions]:https://tealsk12.gitbook.io/intro-cs-2/unit2_md/lesson-2 \n",
    "[Conditionals]:https://tealsk12.gitbook.io/intro-cs-2/unit2_md/lesson-3\n",
    "[Lists]:https://tealsk12.gitbook.io/intro-cs-2/unit2_md/lesson-4                   \n",
    "[Lists(2)]:https://tealsk12.gitbook.io/intro-cs-2/unit2_md/lesson-5                 \n",
    "[Lists Recap]:https://tealsk12.gitbook.io/intro-cs-2/unit2_md/lesson2\n",
    "[Game Loop]:https://tealsk12.gitbook.io/intro-cs-2/unit2_md/lesson-6\n",
    "[Project]:https://tealsk12.gitbook.io/intro-cs-2/unit2_md/lesson-7\n"
   ]
  },
  {
   "cell_type": "code",
   "execution_count": null,
   "metadata": {},
   "outputs": [],
   "source": []
  }
 ],
 "metadata": {
  "kernelspec": {
   "display_name": "Python 3",
   "language": "python",
   "name": "python3"
  },
  "language_info": {
   "codemirror_mode": {
    "name": "ipython",
    "version": 3
   },
   "file_extension": ".py",
   "mimetype": "text/x-python",
   "name": "python",
   "nbconvert_exporter": "python",
   "pygments_lexer": "ipython3",
   "version": "3.6.5"
  }
 },
 "nbformat": 4,
 "nbformat_minor": 2
}
