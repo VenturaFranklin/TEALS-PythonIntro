{
 "cells": [
  {
   "cell_type": "markdown",
   "metadata": {},
   "source": [
    "### More Conditional Practice\n",
    "Predict the outcome and then verify your prediction"
   ]
  },
  {
   "cell_type": "markdown",
   "metadata": {},
   "source": [
    "```python\n",
    "if 5 > 10:\n",
    "    print(\"fan\")\n",
    "elif 8 != 9:\n",
    "    print(\"glass\")\n",
    "else:\n",
    "    print(\"cream\")\n",
    "```"
   ]
  },
  {
   "cell_type": "code",
   "execution_count": null,
   "metadata": {},
   "outputs": [],
   "source": []
  },
  {
   "cell_type": "markdown",
   "metadata": {},
   "source": [
    "Nesting, you can nest if statements\n",
    "```python\n",
    "hair_color = \"blue\"\n",
    "if 3 > 2:\n",
    "    if hair_color == \"black\":\n",
    "        print(\"You rock!\")\n",
    "    else:\n",
    "        print(\"Boring\")\n",
    "```"
   ]
  },
  {
   "cell_type": "code",
   "execution_count": null,
   "metadata": {},
   "outputs": [],
   "source": []
  },
  {
   "cell_type": "markdown",
   "metadata": {},
   "source": [
    "```python\n",
    "if False:\n",
    "    print(\"Nissan\")\n",
    "elif True:\n",
    "    print(\"Ford\")\n",
    "elif True:\n",
    "    print(\"BMW\")\n",
    "else:\n",
    "    print(\"Audi\")\n",
    "```"
   ]
  },
  {
   "cell_type": "code",
   "execution_count": null,
   "metadata": {},
   "outputs": [],
   "source": []
  },
  {
   "cell_type": "markdown",
   "metadata": {},
   "source": [
    "```python\n",
    "if 1:\n",
    "    print(\"1 is truthy!\")\n",
    "else:\n",
    "    print(\"???\")\n",
    "```"
   ]
  },
  {
   "cell_type": "code",
   "execution_count": null,
   "metadata": {},
   "outputs": [],
   "source": []
  },
  {
   "cell_type": "markdown",
   "metadata": {},
   "source": [
    "```python\n",
    "if 0:\n",
    "    print(\"huh?\")\n",
    "else:\n",
    "    print(\"0 is falsy!\")\n",
    "```"
   ]
  },
  {
   "cell_type": "code",
   "execution_count": null,
   "metadata": {},
   "outputs": [],
   "source": []
  },
  {
   "cell_type": "markdown",
   "metadata": {},
   "source": [
    "### Choose the answer\n",
    "A programmer for an online store is developing a program to calculate discount pricing for bulk orders.\n",
    "The program needs to implement this pricing table:\n",
    "\n",
    "Minimum quantity | Discount\n",
    "- 10 | 5%\n",
    "- 75\t|            7%\n",
    "- 150\t|            10%\n",
    "\n",
    "The code segment below uses nested conditionals to assign the discount variable to the appropriate value, but its conditions are missing operators.\n",
    "```python\n",
    "discount = 0\n",
    "\n",
    "if quantity <?> 150:\n",
    "    discount = 10\n",
    "else:\n",
    "    if quantity <?> 75:\n",
    "        discount = 7\n",
    "    else:\n",
    "        if quantity <?> 10:\n",
    "            discount = 5\n",
    "```\n",
    "Which operator could replace <?> so that the code snippet works as expected?\n",
    "\n",
    "Choose 1 answer:\n",
    "- A >\n",
    "- B <\n",
    "- C ≥\n",
    "- D =\n",
    "- E ≤"
   ]
  },
  {
   "cell_type": "markdown",
   "metadata": {},
   "source": [
    "This program uses a conditional to determine whether a child will have free or attached earlobes.\n",
    "```python\n",
    "if fatherAllele = \"G\" or motherAllele = \"G\":\n",
    "    earlobeType = \"free\"\n",
    "else:\n",
    "    earlobeType = \"attached\"\n",
    "```\n",
    "In which situations will earlobeType be \"free\"? (what values of variables need to be what? List 3 possible answers.)"
   ]
  },
  {
   "cell_type": "code",
   "execution_count": null,
   "metadata": {},
   "outputs": [],
   "source": []
  },
  {
   "cell_type": "markdown",
   "metadata": {},
   "source": [
    "```python\n",
    "if x < 0 AND y < 0: \n",
    "    quadrant = \"BL\"\n",
    "else:\n",
    "    if x < 0 AND y > 0:\n",
    "        quadrant = \"TL\"\n",
    "    else:\n",
    "        if x > 0 AND y < 0:\n",
    "            quadrant = \"BR\"\n",
    "        else:\n",
    "            if x > 0 AND y > 0:\n",
    "                quadrant = \"TR\"\n",
    "```\n",
    "When x is 52 and y is -23, what will be the value of quadrant?"
   ]
  },
  {
   "cell_type": "code",
   "execution_count": null,
   "metadata": {},
   "outputs": [],
   "source": []
  },
  {
   "cell_type": "markdown",
   "metadata": {},
   "source": [
    "The following expression is from the logic of an online calendar system.\n",
    "```python\n",
    "not ( calendar == \"user\" and rsvp == \"yes\" )```\n",
    "\n",
    "Select an equivalent way to write the above, only one is correct:\n",
    "- A \n",
    "```python\n",
    "calendar != \"user\" or rsvp != \"yes\"```\n",
    "- B\n",
    "```python\n",
    "calendar != \"user\" and rsvp != \"yes\"```\n",
    "- C\n",
    "```python\n",
    "not ( calendar == \"user\" or rsvp == \"yes\" )```\n",
    "- D\n",
    "```python\n",
    "calendar == \"user\" and rsvp == \"yes\"```\n"
   ]
  },
  {
   "cell_type": "code",
   "execution_count": null,
   "metadata": {},
   "outputs": [],
   "source": []
  },
  {
   "cell_type": "markdown",
   "metadata": {},
   "source": [
    "This program uses a nested conditional to recommend a heat level for cooking eggs.\n",
    "```python\n",
    "if (inHurry = true and eggDish = \"fried\"):\n",
    "    heatLevel = \"high\"\n",
    "else:\n",
    "    if (inHurry = false and eggDish = \"scrambled\"):\n",
    "        heatLevel = \"low\"\n",
    "    else:\n",
    "        heatLevel = \"medium\"\n",
    "```\n",
    "In which situations will heatLevel be \"medium\"?\n",
    "(Note that there may be multiple answers to this question.)"
   ]
  },
  {
   "cell_type": "code",
   "execution_count": null,
   "metadata": {},
   "outputs": [],
   "source": []
  },
  {
   "cell_type": "markdown",
   "metadata": {},
   "source": [
    "## Practice"
   ]
  },
  {
   "cell_type": "markdown",
   "metadata": {},
   "source": [
    "### Pay computation\n",
    "write a pay computation to give employee 1.5 times the hourly rate for hours worked above 40 hours.\n",
    "\n",
    "- Enter Hours: 45\n",
    "- Enter Rate: 10\n",
    "- Pay: 475.0"
   ]
  },
  {
   "cell_type": "code",
   "execution_count": null,
   "metadata": {},
   "outputs": [],
   "source": []
  },
  {
   "cell_type": "markdown",
   "metadata": {},
   "source": [
    "### Grade calculation\n",
    "Write a program to prompt for a score between 0.0 and 1.0. If the score is out of range print an error. If the score is between 0.0 and 1.0, print a grade using the following table:\n",
    "\n",
    "Score   Grade\n",
    "- \\>= 0.9     A\n",
    "- \\>= 0.8     B\n",
    "- \\>= 0.7     C\n",
    "- \\>= 0.6     D\n",
    "-  < 0.6    F\n",
    "\n",
    "Enter score: 0.95\n",
    "`output: A`\n",
    "\n",
    "Enter score: perfect\n",
    "`output: Bad score`\n",
    "\n",
    "Enter score: 10.0\n",
    "`output: Bad score`\n",
    "\n",
    "Enter score: 0.75\n",
    "`output: C`\n",
    "\n",
    "Enter score: 0.5\n",
    "`output: F`\n",
    "\n",
    "Run the program repeatedly as shown above to test the various different values for input."
   ]
  },
  {
   "cell_type": "code",
   "execution_count": null,
   "metadata": {},
   "outputs": [],
   "source": []
  },
  {
   "cell_type": "markdown",
   "metadata": {},
   "source": [
    "### Come Out Win.\n",
    "Assume d1 and d2 have the numbers on two dice. Assume this is the come out roll in Craps. Write the expression for winning (7 or 11). Write the expression for losing (2, 3 or 12). Write the expression for a point (4, 5, 6, 8, 9 or 10)."
   ]
  },
  {
   "cell_type": "code",
   "execution_count": null,
   "metadata": {},
   "outputs": [],
   "source": []
  },
  {
   "cell_type": "markdown",
   "metadata": {},
   "source": [
    "### Sort Three Numbers.\n",
    "\n",
    "This is an exercise in constructing if-statements. Using only simple variables and if statements, you should be able to get this to work; a loop is not needed.\n",
    "\n",
    "Given 3 numbers ( X , Y , Z ), assign variables x, y, z so that x ≤ y ≤ z and x, y, and z are from X , Y , and Z . Use only a series of if-statements and assignment statements.\n",
    "\n",
    "Hint. You must define the conditions under which you choose between x← X , x← Y or x← Z . You will do a similar analysis for assigning values to y and z. Note that your analysis for setting y will depend on the value set for x; similarly, your analysis for setting z will depend on values set for x and y."
   ]
  },
  {
   "cell_type": "code",
   "execution_count": null,
   "metadata": {},
   "outputs": [],
   "source": []
  }
 ],
 "metadata": {
  "kernelspec": {
   "display_name": "Python 3",
   "language": "python",
   "name": "python3"
  },
  "language_info": {
   "codemirror_mode": {
    "name": "ipython",
    "version": 3
   },
   "file_extension": ".py",
   "mimetype": "text/x-python",
   "name": "python",
   "nbconvert_exporter": "python",
   "pygments_lexer": "ipython3",
   "version": "3.6.5"
  }
 },
 "nbformat": 4,
 "nbformat_minor": 2
}
