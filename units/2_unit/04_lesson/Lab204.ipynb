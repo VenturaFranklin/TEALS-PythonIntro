{
 "cells": [
  {
   "cell_type": "markdown",
   "metadata": {},
   "source": [
    "# Lab 2.04 - Conditionals\n",
    "#### Review\n",
    " - You must always have a `:` after the BOOLEAN EXPRESSION\n",
    " - The STATEMENT must always be indented\n",
    "\n",
    "```python\n",
    "if BOOLEAN_EXPRESSION_1:\n",
    "    STATEMENTS_1     # Executed if BOOLEAN_EXPRESSION_1 evaluates to True\n",
    "elif BOOLEAN_EXPRESSION_2:\n",
    "    STATEMENTS_2     # Executed if BOOLEAN_EXPRESSION_1 is False, BOOLEAN_EXPRESSION_2 is True\n",
    "else:\n",
    "    STATEMENTS_3     # Executed if all other BOOLEAN_EXPRESSIONs evaluate to False\n",
    "```\n",
    "#### Comparisons:\n",
    "- == (is equal to)\n",
    "- != (is not equal to)\n",
    "- and\n",
    "- or\n",
    "- not\n",
    "- \\>= (is greater than or equal to)\n",
    "- < less than\n",
    "- <= (is less than or equal to)\n",
    "- \\> greater than"
   ]
  },
  {
   "cell_type": "markdown",
   "metadata": {},
   "source": [
    "### Follow the flow of execution in the following programs and predict what will happen for each one:\n",
    "```python\n",
    "a = 100\n",
    "b = 7\n",
    "if a > 85 and b > 7:\n",
    "    print(\"Stellar Grade\")\n",
    "elif a <= 85 and b <= 7: \n",
    "    print(\"okay grade\")\n",
    "else: \n",
    "    print(\"pretty good grade\") \n",
    "```"
   ]
  },
  {
   "cell_type": "code",
   "execution_count": null,
   "metadata": {},
   "outputs": [],
   "source": [
    "a = 100\n",
    "b = 7\n",
    "if a > 85 and b > 7:\n",
    "    print(\"Stellar Grade\")\n",
    "elif a <= 85 and b <= 7: \n",
    "    print(\"okay grade\")\n",
    "else: \n",
    "    print(\"pretty good grade\")"
   ]
  },
  {
   "cell_type": "markdown",
   "metadata": {},
   "source": [
    "```python\n",
    "a = input(\"What... is your quest\") \n",
    "b = \"to seek the holy grail\"\n",
    "if a != b: \n",
    "    print(\"Go On. Off you go\") \n",
    "else: \n",
    "    b = input(\"What...is the air-speed velocity of an unladen swallow?\")\n",
    "    if b == \"What do you mean? An African or European swallow?\": \n",
    "        print(\"I don't know that...AHHH [Bridgekeeper was thrown over bridge]\")\n",
    "    else: \n",
    "        print(\"[you were thrown over bridge]\")\n",
    "```"
   ]
  },
  {
   "cell_type": "code",
   "execution_count": null,
   "metadata": {},
   "outputs": [],
   "source": []
  },
  {
   "cell_type": "markdown",
   "metadata": {},
   "source": [
    "```python\n",
    "user_input = input(\"What is your favorite color\")\n",
    "if user_input == 'blue': \n",
    "    print(\"Blueskadoo\")\n",
    "elif user_input == \"red\": \n",
    "    print(\"Roses are red!\")\n",
    "elif user_input == \"yellow\": \n",
    "    print(\"Mellow Yellow\")\n",
    "elif user_input == \"green\": \n",
    "    print(\"Green Machine\")\n",
    "elif user_input == \"orange\": \n",
    "    print(\"Orange you glad I didn't say banana.\") \n",
    "elif user_input == \"black\": \n",
    "    print(\"I see a red door and I want it painted black\")\n",
    "elif user_input == \"purple\": \n",
    "    print(\"And we'll never be royalllssss\")\n",
    "elif user_input == \"pink\": \n",
    "    print(\"Pinky- and the Brain\")\n",
    "else: \n",
    "    print(\"I don't recognize that color. Is it even...??\") \n",
    "```"
   ]
  },
  {
   "cell_type": "code",
   "execution_count": null,
   "metadata": {},
   "outputs": [],
   "source": []
  },
  {
   "cell_type": "markdown",
   "metadata": {},
   "source": [
    "### Fix the code"
   ]
  },
  {
   "cell_type": "code",
   "execution_count": null,
   "metadata": {},
   "outputs": [],
   "source": [
    "age = 18\n",
    "old_enough_to_get_driving_licence = 16\n",
    "if age > old_enough_to_get_driving_licence:\n",
    "print(\"you can get a license!\")"
   ]
  },
  {
   "cell_type": "code",
   "execution_count": null,
   "metadata": {},
   "outputs": [],
   "source": [
    "x = 25\n",
    "if x < 50\n",
    "    print('X is small')"
   ]
  },
  {
   "cell_type": "code",
   "execution_count": null,
   "metadata": {},
   "outputs": [],
   "source": [
    "year = 2019\n",
    "if year = 2019:\n",
    "    print(\"The year is 2019\")"
   ]
  },
  {
   "cell_type": "code",
   "execution_count": 3,
   "metadata": {},
   "outputs": [],
   "source": [
    "eaten_dinner = True\n",
    "if eaten_dinner == False:\n",
    "    print('Now we get Cake!')\n",
    "# Output should say: 'Now we get Cake!'"
   ]
  },
  {
   "cell_type": "code",
   "execution_count": null,
   "metadata": {},
   "outputs": [],
   "source": [
    "grade = 80\n",
    "if grade == 65:\n",
    "    print(\"Passing grade\")\n",
    "else:\n",
    "    print(\"Failing grade\")"
   ]
  },
  {
   "cell_type": "markdown",
   "metadata": {},
   "source": [
    "### Create your own"
   ]
  },
  {
   "cell_type": "markdown",
   "metadata": {},
   "source": [
    "With the numbers below for each check whether the sum is greater than 5, less than 5 or equal to 5."
   ]
  },
  {
   "cell_type": "code",
   "execution_count": null,
   "metadata": {},
   "outputs": [],
   "source": [
    "a = 2\n",
    "b = 1\n",
    "c = 4"
   ]
  },
  {
   "cell_type": "markdown",
   "metadata": {},
   "source": [
    "Take two inputs from user and check whether they are equal or not."
   ]
  },
  {
   "cell_type": "code",
   "execution_count": null,
   "metadata": {},
   "outputs": [],
   "source": []
  },
  {
   "cell_type": "markdown",
   "metadata": {},
   "source": [
    "Take 3 inputs from user and check :\n",
    "all are equal\n",
    "any of two are equal\n",
    "( use and or )"
   ]
  },
  {
   "cell_type": "code",
   "execution_count": null,
   "metadata": {},
   "outputs": [],
   "source": []
  },
  {
   "cell_type": "markdown",
   "metadata": {},
   "source": [
    "Suppose passing a test of a subject is 35. Take input of test from user and check whether it is greater than passing or not."
   ]
  },
  {
   "cell_type": "code",
   "execution_count": null,
   "metadata": {},
   "outputs": [],
   "source": []
  },
  {
   "cell_type": "markdown",
   "metadata": {},
   "source": [
    "### Create a schedule program.\n",
    "Given the hour of the day print out where you should be. If you're not doing anything else you should be \"sleeping\".\n",
    "```\n",
    " >>> What hour? 12pm\n",
    " >>> You should be at lunch!\n",
    " ```"
   ]
  },
  {
   "cell_type": "markdown",
   "metadata": {},
   "source": [
    "What if you wanted to add in a weekly functionality? For instance, maybe on Tuesday at 4pm you are at soccer practice, but on Thursday at 4pm you are at math club! How would you implement this in your program? "
   ]
  },
  {
   "cell_type": "code",
   "execution_count": null,
   "metadata": {},
   "outputs": [],
   "source": []
  },
  {
   "cell_type": "markdown",
   "metadata": {},
   "source": [
    "### Create a game show program! \n",
    "* Declare 10 prizes (prize1, prize2, prize 3 at the top of your file)\n",
    "* User picks a number\n",
    "* The prize corresponding with that door is printed for the user. "
   ]
  },
  {
   "cell_type": "code",
   "execution_count": null,
   "metadata": {},
   "outputs": [],
   "source": []
  }
 ],
 "metadata": {
  "kernelspec": {
   "display_name": "Python 3",
   "language": "python",
   "name": "python3"
  },
  "language_info": {
   "codemirror_mode": {
    "name": "ipython",
    "version": 3
   },
   "file_extension": ".py",
   "mimetype": "text/x-python",
   "name": "python",
   "nbconvert_exporter": "python",
   "pygments_lexer": "ipython3",
   "version": "3.6.5"
  }
 },
 "nbformat": 4,
 "nbformat_minor": 2
}
