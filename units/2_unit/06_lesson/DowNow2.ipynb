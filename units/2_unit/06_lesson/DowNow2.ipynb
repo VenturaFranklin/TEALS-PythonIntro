{
 "cells": [
  {
   "cell_type": "markdown",
   "metadata": {},
   "source": [
    "# Do Now 2.06b\n",
    "\n",
    "Rank the topics you find the most confusing:\n",
    "\n",
    "1. Length of lists\n",
    "\n",
    "2. Appending elements from a list\n",
    "\n",
    "3. Indexing into Lists\n",
    "\n",
    "4. Popping elements off a list\n",
    "\n",
    "5. Slicing lists\n",
    "\n",
    "6. Adding elements to a list\n",
    "\n",
    "7. Creating lists\n",
    "\n",
    "8. Removing elements from a list"
   ]
  },
  {
   "cell_type": "code",
   "execution_count": 6,
   "metadata": {},
   "outputs": [
    {
     "data": {
      "text/plain": [
       "(5, 4)"
      ]
     },
     "execution_count": 6,
     "metadata": {},
     "output_type": "execute_result"
    }
   ],
   "source": [
    "3, 5, 2\n",
    "3, 7, 5\n",
    "3, 2\n",
    "1, 3, 2\n",
    "5, 3\n",
    "3, 5\n",
    "5, 3\n",
    "5, 4"
   ]
  },
  {
   "cell_type": "code",
   "execution_count": null,
   "metadata": {},
   "outputs": [],
   "source": []
  },
  {
   "cell_type": "code",
   "execution_count": 7,
   "metadata": {},
   "outputs": [],
   "source": [
    "a_list = ['0', 123, 'test', 'dog']"
   ]
  },
  {
   "cell_type": "code",
   "execution_count": 19,
   "metadata": {},
   "outputs": [
    {
     "data": {
      "text/plain": [
       "'test'"
      ]
     },
     "execution_count": 19,
     "metadata": {},
     "output_type": "execute_result"
    }
   ],
   "source": [
    "a_list[2]"
   ]
  },
  {
   "cell_type": "code",
   "execution_count": 12,
   "metadata": {},
   "outputs": [
    {
     "data": {
      "text/plain": [
       "'dog'"
      ]
     },
     "execution_count": 12,
     "metadata": {},
     "output_type": "execute_result"
    }
   ],
   "source": [
    "a_list = ['0', 123, 'test', 'dog']\n",
    "# Predict what will happen\n",
    "a_list[-1]"
   ]
  },
  {
   "cell_type": "code",
   "execution_count": 13,
   "metadata": {},
   "outputs": [
    {
     "data": {
      "text/plain": [
       "['a', 'b', 'c']"
      ]
     },
     "execution_count": 13,
     "metadata": {},
     "output_type": "execute_result"
    }
   ],
   "source": [
    "new_list = ['a', 'b', 'c', 'd']\n",
    "new_list[0:3]"
   ]
  },
  {
   "cell_type": "code",
   "execution_count": 14,
   "metadata": {},
   "outputs": [
    {
     "data": {
      "text/plain": [
       "['a', 'b']"
      ]
     },
     "execution_count": 14,
     "metadata": {},
     "output_type": "execute_result"
    }
   ],
   "source": [
    "new_list = ['a', 'b', 'c', 'd']\n",
    "# Predict what will happend\n",
    "new_list[:2]"
   ]
  },
  {
   "cell_type": "code",
   "execution_count": 18,
   "metadata": {},
   "outputs": [
    {
     "name": "stdout",
     "output_type": "stream",
     "text": [
      "['cc', 'dd']\n"
     ]
    }
   ],
   "source": [
    "stuff = [\"aa\", \"bb\", \"cc\", \"dd\"]\n",
    "# Predict what will happen\n",
    "print(stuff[2:])"
   ]
  },
  {
   "cell_type": "code",
   "execution_count": 23,
   "metadata": {},
   "outputs": [
    {
     "name": "stdout",
     "output_type": "stream",
     "text": [
      "['Green', 'White', 'Black']\n"
     ]
    }
   ],
   "source": [
    "your_colors =  ['Red', 'Green', 'White', 'Black', 'Pink', 'Yellow']\n",
    "# Remove the 0th, 4th and 5th elements to get the list: ['Green', 'White', 'Black']\n",
    "your_colors.remove('Red')\n",
    "your_colors.remove('Pink')\n",
    "your_colors.remove('Yellow')\n",
    "print(your_colors)\n"
   ]
  },
  {
   "cell_type": "code",
   "execution_count": 26,
   "metadata": {},
   "outputs": [
    {
     "name": "stdout",
     "output_type": "stream",
     "text": [
      "['Green', 'White', 'Black', 'Pink', 'Yellow']\n"
     ]
    },
    {
     "data": {
      "text/plain": [
       "'Yellow'"
      ]
     },
     "execution_count": 26,
     "metadata": {},
     "output_type": "execute_result"
    }
   ],
   "source": [
    "your_colors =  ['Red', 'Green', 'White', 'Black', 'Pink', 'Yellow']\n",
    "your_colors.pop(0)\n",
    "print(your_colors)\n",
    "your_colors.pop(4)\n"
   ]
  },
  {
   "cell_type": "code",
   "execution_count": null,
   "metadata": {},
   "outputs": [],
   "source": [
    "num_list = [5, 10, 15, 20, 25]\n",
    "# makes a new list of only the first and last elements of the given list: [5, 25]"
   ]
  },
  {
   "cell_type": "code",
   "execution_count": null,
   "metadata": {},
   "outputs": [],
   "source": [
    "sevenWonders = [\"Aurora\", \"Grand Canyon\", \"Great Barrier Reef\",\n",
    "                \"Guanabara Bay\", \"Mount Everest\", \"Parícutin\", \"Victoria Falls\"]\n",
    "sevenWonders[4] = \"Komodo\"\n",
    "sevenWonders[6] = \"Table Mountain\"\n",
    "print(sevenWonders)"
   ]
  },
  {
   "cell_type": "code",
   "execution_count": null,
   "metadata": {},
   "outputs": [],
   "source": [
    "bestGames = []\n",
    "bestGames.append(\"Dixit\")\n",
    "bestGames.append(\"Codenames\")\n",
    "bestGames.append(\"Mysterium\")\n",
    "bestGames.append(\"Scrabble\")\n",
    "bestGames.append(\"Catchphrase\")\n",
    "bestGames.append(\"Lost Cities\")\n",
    "\n",
    "bestGames.insert(2, \"Carcassonne\")\n",
    "bestGames.pop(4)\n",
    "print(bestGames)\n",
    "# Predict what the outpu list of bestGames will be:"
   ]
  },
  {
   "cell_type": "markdown",
   "metadata": {},
   "source": [
    "Type the following. How would you check if an item was in a three element list? \n",
    "```python\n",
    " a = ['cats', 'dogs', 'pigs']\n",
    " \n",
    "```\n",
    "What if the list was much longer?"
   ]
  },
  {
   "cell_type": "code",
   "execution_count": 29,
   "metadata": {},
   "outputs": [
    {
     "data": {
      "text/plain": [
       "False"
      ]
     },
     "execution_count": 29,
     "metadata": {},
     "output_type": "execute_result"
    }
   ],
   "source": [
    "a = ['cats', 'dogs', 'pigs']\n",
    "'blue' in a"
   ]
  },
  {
   "cell_type": "markdown",
   "metadata": {},
   "source": [
    "Try typing in the following code: \n",
    "```python\n",
    "a = ['cats', 'dogs', 'pigs']\n",
    "print('dogs' in a)\n",
    "print('cows' in a)\n",
    "```"
   ]
  },
  {
   "cell_type": "code",
   "execution_count": null,
   "metadata": {},
   "outputs": [],
   "source": []
  }
 ],
 "metadata": {
  "kernelspec": {
   "display_name": "Python 3",
   "language": "python",
   "name": "python3"
  },
  "language_info": {
   "codemirror_mode": {
    "name": "ipython",
    "version": 3
   },
   "file_extension": ".py",
   "mimetype": "text/x-python",
   "name": "python",
   "nbconvert_exporter": "python",
   "pygments_lexer": "ipython3",
   "version": "3.6.5"
  }
 },
 "nbformat": 4,
 "nbformat_minor": 2
}
