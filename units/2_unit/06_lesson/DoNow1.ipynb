{
 "cells": [
  {
   "cell_type": "markdown",
   "metadata": {},
   "source": [
    "# Do Now 2.06\n",
    "\n",
    "Open up the console. Type the following code:\n",
    "```python\n",
    "a = [123, 'First Item', 456, 'Second Item']\n",
    "b = a[0:2]\n",
    "print(a)\n",
    "print(b)\n",
    "```\n",
    "What happens to a? What is b? What type is b? "
   ]
  },
  {
   "cell_type": "code",
   "execution_count": 10,
   "metadata": {},
   "outputs": [
    {
     "data": {
      "text/plain": [
       "'First Item'"
      ]
     },
     "execution_count": 10,
     "metadata": {},
     "output_type": "execute_result"
    }
   ],
   "source": [
    "a = [123, 'First Item', 456, 'Second Item']\n",
    "a[1]"
   ]
  },
  {
   "cell_type": "code",
   "execution_count": 8,
   "metadata": {},
   "outputs": [
    {
     "name": "stdout",
     "output_type": "stream",
     "text": [
      "[123, 'First Item', 456, 'Second Item']\n",
      "['First Item', 456, 'Second Item']\n"
     ]
    }
   ],
   "source": [
    "a = [123, 'First Item', 456, 'Second Item']\n",
    "b = a[1:10]\n",
    "print(a)\n",
    "print(b)"
   ]
  },
  {
   "cell_type": "markdown",
   "metadata": {},
   "source": [
    "```python\n",
    "a = [123, 'First Item', 456]\n",
    "a.remove('First Item')\n",
    "print(a) \n",
    "```\n",
    "What does `remove` do? What would the length of this list be after `remove`? "
   ]
  },
  {
   "cell_type": "code",
   "execution_count": 13,
   "metadata": {},
   "outputs": [
    {
     "name": "stdout",
     "output_type": "stream",
     "text": [
      "[123, 456]\n"
     ]
    }
   ],
   "source": [
    "a = [123, 'First Item', 456]\n",
    "a.remove('First Item')\n",
    "print(a)"
   ]
  },
  {
   "cell_type": "code",
   "execution_count": 17,
   "metadata": {},
   "outputs": [
    {
     "name": "stdout",
     "output_type": "stream",
     "text": [
      "[456]\n"
     ]
    }
   ],
   "source": [
    "a = [123, 'First Item', 456]\n",
    "a.remove('First Item')\n",
    "a.remove(123)\n",
    "print(a) "
   ]
  },
  {
   "cell_type": "markdown",
   "metadata": {},
   "source": [
    "```python\n",
    "a = [123, 'First Item', 456]\n",
    "a.pop()\n",
    "print(a) \n",
    "```\n",
    "What does `pop` do? What is the difference between `remove` and `pop`? "
   ]
  },
  {
   "cell_type": "code",
   "execution_count": 25,
   "metadata": {},
   "outputs": [
    {
     "name": "stdout",
     "output_type": "stream",
     "text": [
      "['First Item', 456]\n",
      "['First Item']\n"
     ]
    }
   ],
   "source": [
    "a = [123, 'First Item', 456]\n",
    "a.pop(0)\n",
    "print(a)\n",
    "a.pop(1)\n",
    "print(a) "
   ]
  },
  {
   "cell_type": "markdown",
   "metadata": {},
   "source": [
    "```python\n",
    "a = [123, 'First Item', 456, 'Second Item']\n",
    "b = a + ['Third Item']\n",
    "print(a)\n",
    "print(b)\n",
    "```\n",
    "What happens to a? What is b? What type is b? "
   ]
  },
  {
   "cell_type": "code",
   "execution_count": 46,
   "metadata": {},
   "outputs": [
    {
     "name": "stdout",
     "output_type": "stream",
     "text": [
      "[123, 'First Item', 456, 'Second Item']\n",
      "['Third Item', 123, 'First Item', 456, 'Second Item']\n"
     ]
    }
   ],
   "source": [
    "a = [123, 'First Item', 456, 'Second Item']\n",
    "b = ['Third Item'] + a\n",
    "print(a)\n",
    "print(b)"
   ]
  },
  {
   "cell_type": "code",
   "execution_count": 29,
   "metadata": {},
   "outputs": [
    {
     "data": {
      "text/plain": [
       "list"
      ]
     },
     "execution_count": 29,
     "metadata": {},
     "output_type": "execute_result"
    }
   ],
   "source": [
    "type(a)"
   ]
  },
  {
   "cell_type": "code",
   "execution_count": 47,
   "metadata": {},
   "outputs": [
    {
     "name": "stdout",
     "output_type": "stream",
     "text": [
      "[123, 'test', 'First Item', 456, 'Second Item']\n"
     ]
    }
   ],
   "source": [
    "a.insert(1, 'test')\n",
    "print(a)"
   ]
  },
  {
   "cell_type": "markdown",
   "metadata": {},
   "source": [
    "```python\n",
    "a = []\n",
    "print(len(a))\n",
    "a.append('First Item')\n",
    "print(a)\n",
    " \n",
    "```\n",
    "What was the length of `[]`?\n",
    "<br>\n",
    "<br>\n",
    "<br>\n",
    "\n",
    "What does `append` do? What would the length be after `append`? \n",
    "<br>\n",
    "<br>\n",
    "<br>\n"
   ]
  },
  {
   "cell_type": "code",
   "execution_count": 53,
   "metadata": {},
   "outputs": [
    {
     "name": "stdout",
     "output_type": "stream",
     "text": [
      "1\n",
      "6\n",
      "5\n",
      "['test', 'blue', 'First Item', 'First Item', 'First Item']\n"
     ]
    }
   ],
   "source": [
    "a = ['test']\n",
    "print(len(a))\n",
    "a.append('First Item')\n",
    "a.append('blue')\n",
    "a.append('First Item')\n",
    "a.append('First Item')\n",
    "a.append('First Item')\n",
    "print(len(a))\n",
    "a.remove('First Item')\n",
    "print(len(a))\n",
    "print(a)"
   ]
  },
  {
   "cell_type": "code",
   "execution_count": null,
   "metadata": {},
   "outputs": [],
   "source": []
  }
 ],
 "metadata": {
  "kernelspec": {
   "display_name": "Python 3",
   "language": "python",
   "name": "python3"
  },
  "language_info": {
   "codemirror_mode": {
    "name": "ipython",
    "version": 3
   },
   "file_extension": ".py",
   "mimetype": "text/x-python",
   "name": "python",
   "nbconvert_exporter": "python",
   "pygments_lexer": "ipython3",
   "version": "3.6.5"
  }
 },
 "nbformat": 4,
 "nbformat_minor": 2
}
