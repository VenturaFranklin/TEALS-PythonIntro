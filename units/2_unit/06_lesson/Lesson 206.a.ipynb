{
 "cells": [
  {
   "cell_type": "markdown",
   "metadata": {},
   "source": [
    "# Lesson 2.06: Lists 2\n",
    "\n",
    "## Learning Objectives\n",
    "Students will be able to... \n",
    "\n",
    "* Define and identify: **slice, append, pop, remove**\n",
    "* Slice a list\n",
    "* Add and remove elements from a list\n",
    "\n",
    "## Materials/Preparation\n",
    "* [Do Now]\n",
    "* [Lab - Tic-Tac-Toe]\n",
    "* Associated Reading - section 2.5 of Book\n",
    "* Read through the do now, lesson, and lab so that you are familiar with the requirements and can assist students\n",
    "\n",
    "## Pacing Guide\n",
    "| **Duration**   | **Description** |\n",
    "| ---------- | ----------- |\n",
    "| 10 Minutes  | Do Now      |\n",
    "| 10 Minutes | Lesson      |\n",
    "| 30 Minutes | Lab         |\n",
    "| 5 Minutes | Debrief  |\n",
    "\n",
    "## Instructor's Notes\n",
    "1. **Do Now**\n",
    "    * Students may need more time than usual to fully go through this lesson's Do Now.\n",
    "2. **Lesson**\n",
    "    * Ask students what doing `a[0:2]` in the Do Now did.\n",
    "        * Define **slicing**: a list operation that gives back a list starting from the index to the left of the colon and going up to the index to the right of the colon. \n",
    "        * Note that slicing doesn't exist in Snap!\n",
    "    * Ask students what the list would return if you did `a[1:2]`.\n",
    "    * Explore the differences between `remove` and `pop`, asking for student input. \n",
    "    * Ask students what the plus sign and `append` do to a list.\n",
    "    * Ask students to write down or brainstorm how they would represent a Tic-Tac-Toe board using lists.\n",
    "        * Create a Tic-Tac-Toe board with students in class. \n",
    "3. **Lab**\n",
    "    * Students practice slicing, adding, and removing elements from some given lists. \n",
    "    * Students create a single move Tic-Tac-Toe game\n",
    "4. **Debrief**\n",
    "    * Check student progress and completion of the lab, wrap up by taking any final questions.\n",
    "\n",
    "### Accommodation/Differentiation\n",
    "If students are moving quickly, start the next topic of using a while loop as a game loop. Explore the concept of keeping score for the game.\n",
    "\n",
    "If students are moving slowly then spend an extra day reviewing lists and completing lab activities. \n",
    "\n",
    "There is also an opportunity for a quiz after the game loop lesson and before the project. \n",
    "\n",
    "## Forum discussion\n",
    "[Lesson 2.06: Lists 2 (TEALS Discourse Account Required)](https://forums.tealsk12.org/c/2nd-semester-unit-2/lesson-2-06-lists-2)\n",
    "  \n",
    "\n",
    "[Do Now]:do_now.md\n",
    "[Lab - Tic-Tac-Toe]:lab.md\n"
   ]
  },
  {
   "cell_type": "code",
   "execution_count": null,
   "metadata": {},
   "outputs": [],
   "source": []
  }
 ],
 "metadata": {
  "kernelspec": {
   "display_name": "Python 3",
   "language": "python",
   "name": "python3"
  },
  "language_info": {
   "codemirror_mode": {
    "name": "ipython",
    "version": 3
   },
   "file_extension": ".py",
   "mimetype": "text/x-python",
   "name": "python",
   "nbconvert_exporter": "python",
   "pygments_lexer": "ipython3",
   "version": "3.6.5"
  }
 },
 "nbformat": 4,
 "nbformat_minor": 2
}
