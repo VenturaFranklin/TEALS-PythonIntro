{
 "cells": [
  {
   "cell_type": "markdown",
   "metadata": {},
   "source": [
    "# Lesson 2.06b: Lists Recap\n",
    "\n",
    "## Learning Objectives\n",
    "Students will be able to... \n",
    "* Define and identify: **index, slice, append, pop, remove**\n",
    "* Apply list conditionals to determine if an element is in a list\n",
    "\n",
    "## Materials/Preparation\n",
    "* [Do Now]\n",
    "* Associated Reading - section 2.6 of Book\n",
    "* Read through the do now, lesson, and lab so that you are familiar with the requirements and can assist students\n",
    "\n",
    "## Pacing Guide\n",
    "| **Duration**   | **Description** |\n",
    "| ---------- | ----------- |\n",
    "| 5 Minutes  | Do Now      |\n",
    "| 10 Minutes | Lesson      |\n",
    "| 35 Minutes | Review      |\n",
    "| 5 Minutes | Debrief  |\n",
    "\n",
    "## Instructor's Notes\n",
    "1. **Do Now**\n",
    "    * Students experiment and learn that if they want to find out if a particular element is in a list, there is a useful tool that can save time.\n",
    "2. **Lesson**\n",
    "  * Go over the list `in` operation. Ask what the return value is (Boolean expression).\n",
    "    * Have students practice using the `in` operation in an if statement. User this time to look over the student responses to the first part of the Do Now - identify the topics they are having problems with.\n",
    "3. **Review**\n",
    "    * Spend time reviewing the topics students are confused about.\n",
    "    * Have students practice using lists and Boolean expressions.\n",
    "\n",
    "### Accommodation/Differentiation \n",
    "This lesson may not be necessary, however this is a good opportunity to check for student understanding of lists and associated functions. \n",
    "\n",
    "There could also be a unit quiz after the game loop lesson or during the Zork project, and this lesson could be used to review for that quiz.\n",
    "  \n",
    "[Do Now]:do_now2.md\n"
   ]
  },
  {
   "cell_type": "code",
   "execution_count": null,
   "metadata": {},
   "outputs": [],
   "source": []
  }
 ],
 "metadata": {
  "kernelspec": {
   "display_name": "Python 3",
   "language": "python",
   "name": "python3"
  },
  "language_info": {
   "codemirror_mode": {
    "name": "ipython",
    "version": 3
   },
   "file_extension": ".py",
   "mimetype": "text/x-python",
   "name": "python",
   "nbconvert_exporter": "python",
   "pygments_lexer": "ipython3",
   "version": "3.6.5"
  }
 },
 "nbformat": 4,
 "nbformat_minor": 2
}
