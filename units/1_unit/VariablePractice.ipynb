{
 "cells": [
  {
   "cell_type": "markdown",
   "metadata": {},
   "source": [
    "# Variables\n",
    "\n",
    "We use variables to save information for later and to make our lives easier.\n",
    "\n",
    "Variables are like buckets with names, you can put whatever you want in your bucket including other variables but your bucket must have a name\n",
    "\n",
    "The syntax is:\n",
    "`my_variable_name = my_variable_bucket_value`\n",
    "\n",
    "- You must ALWAYS have an equal sign.\n",
    "- my_variable_name is any word that does not begin with a number and is the name of the variable, *__it should be descriptive!__*\n",
    "- my_variable_bucket_value is what you put in your variable. This can be a string, integer, or another variable\n",
    "\n",
    "When you assign a variable, you use the `=` symbol. The name of the variable goes on the left and the value you want to store in the variable goes on the right.\n",
    "\n",
    "Examples:\n",
    "```python\n",
    "age = 60 # Assign integer 60 to the variable called age\n",
    "my_name = \"Cynthia\" # Assign the string \"Cynthia\" to the variable called my_name\n",
    "```\n",
    "\n",
    "### You can change what is in the bucket (assigned to the variable) __at any  time!__\n",
    "Examples:\n",
    "```python\n",
    "age = 59  # Assign integer 59 to variable age\n",
    "age = age + 1 # Add 1 to the variable age, assign the result to variable age\n",
    "print(age)\n",
    "# Output: 60\n",
    "\n",
    "my_quest = \"To learn programming\" # Assign the string to variable my_quest\n",
    "my_quest = \"To travel around the world\" # Assign the NEW string to variable my_quest\n",
    "print(my_quest)\n",
    "# Output: \"To travel around the world\"\n",
    "```\n",
    "__________\n",
    "## Variables have type\n",
    "We have learned several types. String, Integers, Floats\n",
    "- Strings are senteances and must have \"\" or ''\n",
    "- Integers are numbers, eg. 5, 468, 840124\n",
    "- Floats are decimal numbers, eg. 6.5, 100054.64, 15.1\n",
    "\n",
    "In Jupyter, integers are green, strings are red, variables have no color\n",
    "\n",
    "### We can force our variables to the type using functions: str(), int(), float()\n",
    "- str() looks like string and so forces inputs to string\n",
    "- int() looks like integer and forces inputs to integers\n",
    "- float() lookse like float and forces inputs to floats\n",
    "\n",
    "Examples:\n",
    "```python\n",
    "age = 59 # This is an integer, see it is green!\n",
    "age = str(age) # We have forced the number into a string it is now \"59\"\n",
    "print(\"Today I am \" + age + \" years old!\") # Need string because you can not add strings and integers\n",
    "# Output: \"Today I am 59 years old!\"\n",
    "\n",
    "name = 'fernando' # This is a string, see it is red!\n",
    "print(\"Hello \" + name)\n",
    "\n",
    "age = input(\"How old are you?\") # Inputs are always strings\n",
    "> 16 # This is what the user types into the input box\n",
    "age = int(age) # Force the string to an integer it is now 16\n",
    "age = age + 1 # Add one to the integer it is now 17\n",
    "age = str(age) # Force the integer to a string it is now \"17\"\n",
    "print(\"You will be \" + age + \" in one year!\")\n",
    "# Output: \"You will be 17 in one year!\"\n",
    "```"
   ]
  },
  {
   "cell_type": "markdown",
   "metadata": {},
   "source": [
    "# Let's practice"
   ]
  },
  {
   "cell_type": "markdown",
   "metadata": {},
   "source": [
    "Create a variable that is a number"
   ]
  },
  {
   "cell_type": "code",
   "execution_count": null,
   "metadata": {},
   "outputs": [],
   "source": []
  },
  {
   "cell_type": "markdown",
   "metadata": {},
   "source": [
    "Create a DIFFERENT variable that is a number"
   ]
  },
  {
   "cell_type": "code",
   "execution_count": null,
   "metadata": {},
   "outputs": [],
   "source": []
  },
  {
   "cell_type": "markdown",
   "metadata": {},
   "source": [
    "Add your two variables together"
   ]
  },
  {
   "cell_type": "code",
   "execution_count": null,
   "metadata": {},
   "outputs": [],
   "source": []
  },
  {
   "cell_type": "markdown",
   "metadata": {},
   "source": [
    "Print the result"
   ]
  },
  {
   "cell_type": "code",
   "execution_count": null,
   "metadata": {},
   "outputs": [],
   "source": []
  },
  {
   "cell_type": "markdown",
   "metadata": {},
   "source": [
    "Create a variable for a string that is your name"
   ]
  },
  {
   "cell_type": "code",
   "execution_count": null,
   "metadata": {},
   "outputs": [],
   "source": []
  },
  {
   "cell_type": "markdown",
   "metadata": {},
   "source": [
    "Print a message that says hello to you"
   ]
  },
  {
   "cell_type": "code",
   "execution_count": null,
   "metadata": {},
   "outputs": [],
   "source": []
  },
  {
   "cell_type": "markdown",
   "metadata": {},
   "source": [
    "Create a variable for an integer that is your age"
   ]
  },
  {
   "cell_type": "code",
   "execution_count": null,
   "metadata": {},
   "outputs": [],
   "source": []
  },
  {
   "cell_type": "markdown",
   "metadata": {},
   "source": [
    "Print a message that tells you your age"
   ]
  },
  {
   "cell_type": "code",
   "execution_count": null,
   "metadata": {},
   "outputs": [],
   "source": []
  },
  {
   "cell_type": "markdown",
   "metadata": {},
   "source": [
    "Add 1 to your age"
   ]
  },
  {
   "cell_type": "code",
   "execution_count": null,
   "metadata": {},
   "outputs": [],
   "source": []
  },
  {
   "cell_type": "markdown",
   "metadata": {},
   "source": [
    "Print a message that tells your age in 1 year"
   ]
  },
  {
   "cell_type": "code",
   "execution_count": null,
   "metadata": {},
   "outputs": [],
   "source": []
  },
  {
   "cell_type": "markdown",
   "metadata": {},
   "source": [
    "Ask your teacher what their name is and save their input to a variable"
   ]
  },
  {
   "cell_type": "code",
   "execution_count": null,
   "metadata": {},
   "outputs": [],
   "source": []
  },
  {
   "cell_type": "markdown",
   "metadata": {},
   "source": [
    "Print a message that says hello to the teacher"
   ]
  },
  {
   "cell_type": "code",
   "execution_count": null,
   "metadata": {},
   "outputs": [],
   "source": []
  },
  {
   "cell_type": "markdown",
   "metadata": {},
   "source": [
    "Ask a neighbor how old they are and save their input to a variable"
   ]
  },
  {
   "cell_type": "code",
   "execution_count": null,
   "metadata": {},
   "outputs": [],
   "source": []
  },
  {
   "cell_type": "markdown",
   "metadata": {},
   "source": [
    "Tell your neighbor how old they are."
   ]
  },
  {
   "cell_type": "code",
   "execution_count": null,
   "metadata": {},
   "outputs": [],
   "source": []
  },
  {
   "cell_type": "markdown",
   "metadata": {},
   "source": [
    "Tell your neighbor how old they are going to be in 5 years"
   ]
  },
  {
   "cell_type": "code",
   "execution_count": null,
   "metadata": {},
   "outputs": [],
   "source": []
  },
  {
   "cell_type": "markdown",
   "metadata": {},
   "source": [
    "Tell your neighbor how old they are going to be in 20 years"
   ]
  },
  {
   "cell_type": "code",
   "execution_count": null,
   "metadata": {},
   "outputs": [],
   "source": []
  },
  {
   "cell_type": "markdown",
   "metadata": {},
   "source": [
    "Store your birth year in a variable."
   ]
  },
  {
   "cell_type": "code",
   "execution_count": null,
   "metadata": {},
   "outputs": [],
   "source": []
  },
  {
   "cell_type": "markdown",
   "metadata": {},
   "source": [
    "Store a future year in a variable."
   ]
  },
  {
   "cell_type": "code",
   "execution_count": null,
   "metadata": {},
   "outputs": [],
   "source": []
  },
  {
   "cell_type": "markdown",
   "metadata": {},
   "source": [
    "Calculate your age for that year based on the stored values.\n",
    "    For example, if you were born in 1988, then in 2026 you'll be 38"
   ]
  },
  {
   "cell_type": "code",
   "execution_count": null,
   "metadata": {},
   "outputs": [],
   "source": []
  },
  {
   "cell_type": "markdown",
   "metadata": {},
   "source": [
    "Output them to the screen like so: \"I will be NN in YYYY\", substituting the values."
   ]
  },
  {
   "cell_type": "code",
   "execution_count": null,
   "metadata": {},
   "outputs": [],
   "source": []
  },
  {
   "cell_type": "markdown",
   "metadata": {},
   "source": [
    "Ask the user for thier first wish, save their input in a variable"
   ]
  },
  {
   "cell_type": "code",
   "execution_count": null,
   "metadata": {},
   "outputs": [],
   "source": []
  },
  {
   "cell_type": "markdown",
   "metadata": {},
   "source": [
    "Ask the user for thier second wish, save their input in a DIFFERENT variable"
   ]
  },
  {
   "cell_type": "code",
   "execution_count": null,
   "metadata": {},
   "outputs": [],
   "source": []
  },
  {
   "cell_type": "markdown",
   "metadata": {},
   "source": [
    "Ask the user for thier third wish, save their input in a DIFFERENT variable"
   ]
  },
  {
   "cell_type": "code",
   "execution_count": null,
   "metadata": {},
   "outputs": [],
   "source": []
  },
  {
   "cell_type": "markdown",
   "metadata": {},
   "source": [
    "Tell the user what their three wishes are."
   ]
  },
  {
   "cell_type": "code",
   "execution_count": null,
   "metadata": {},
   "outputs": [],
   "source": []
  }
 ],
 "metadata": {
  "kernelspec": {
   "display_name": "Python 3",
   "language": "python",
   "name": "python3"
  },
  "language_info": {
   "codemirror_mode": {
    "name": "ipython",
    "version": 3
   },
   "file_extension": ".py",
   "mimetype": "text/x-python",
   "name": "python",
   "nbconvert_exporter": "python",
   "pygments_lexer": "ipython3",
   "version": "3.6.5"
  }
 },
 "nbformat": 4,
 "nbformat_minor": 2
}
