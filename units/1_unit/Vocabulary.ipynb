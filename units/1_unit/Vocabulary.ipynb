{
 "cells": [
  {
   "cell_type": "markdown",
   "metadata": {},
   "source": [
    "### Fundamentals\n",
    "- IDE\n",
    "    - Integrated Developer Environment\n",
    "    - Chef's kitchen\n",
    "        - Jupyter - programmers tools and ways to code\n",
    "- Python\n",
    "    - programming language\n",
    "        - used in many applications web, data, desktop applications, machine learning\n",
    "- interpreter\n",
    "    - takes code and runs it, in jupyter the code blocks\n",
    "- console\n",
    "    - synonym for interpreter\n",
    "- expression\n",
    "    - math statement, 1 + 1, 5 * 5, 5 + 2 \n",
    "    - any code, print(\"test\")\n",
    "- script\n",
    "    - steps after steps in order line 1, 2, 3, etc.\n",
    "    - computer does exactly what you tell it\n",
    "    - made up of expressions/statements\n",
    "    - run them in the interpreter\n",
    "- run\n",
    "    - shift + enter, click on the arrow\n",
    "- output\n",
    "    - after running the result\n",
    "    - number next to cell should be there and num+1\n",
    "\n",
    "### Types\n",
    "- string\n",
    "    - Must always have quotes \"\"\n",
    "    - Quotes must always match\n",
    "    - Quotes are AROUND what you want to be string\n",
    "    - strings are red\n",
    "        - \"This is a string\"\n",
    "        - This is not a string because no quotes\n",
    "- integer\n",
    "    - green\n",
    "    - numbers\n",
    "        - 1, 3, 6, 192323\n",
    "    - words are not numbers, NOT AN INTERGER\n",
    "        - \"one\", five, one-thousand\n",
    "    - strings are not numbers, NOT AN INTEGER\n",
    "        - \"1\", \"500\", \"5\"\n",
    "- float\n",
    "    - decimal numbers\n",
    "        - 8.5, 500274.50, 0.5\n",
    "    - integers are not floats, THERE IS NO DECIMAL\n",
    "        - 1, 9, 7\n",
    "- Adding strings:\n",
    "    - YES, smushes them together\n",
    "        \"Blue\" + \"Yellow\" = \"BlueYellow\"\n",
    "- Adding integers:\n",
    "    - YES, just math\n",
    "        5 + 9 = 14\n",
    "- Adding strings and integers:\n",
    "    - NO, does not work\n",
    "        \"Blue\" + 1  --> ERROR: must be str, not int\n",
    "        1 + \"Blue\"  --> ERROR: unsupported operand type(s) for +: 'int' and 'str'\n",
    "- operand, operator:\n",
    "    - our math signs\n",
    "        - +, -, /, *\n",
    "    \n",
    "### Functions\n",
    "ALL functions have parenthesis ()\n",
    "Parenthesis must match\n",
    "All functions are green\n",
    "- print() --> returns nothing\n",
    "    - Telling the user something\n",
    "    - Output\n",
    "        - print(\"Hello\")\n",
    "- input() --> returns string\n",
    "    - Ask a question, get info from user, asking for input\n",
    "        - input(\"Name?\")\n",
    "        - input(\"Age?\") --> 5 --> \"5\"\n",
    "- int() --> returns an integer\n",
    "    - Forcing a string to an integer (number)\n",
    "        - Must be a number\n",
    "        - int(\"1\") = 1\n",
    "        - int(\"one\") is an error\n",
    "        - int(\"Hello\") is an error\n",
    "        - int(\"one 1\") \n",
    "- str() --> returns a string\n",
    "    - Forcing anything to a string\n",
    "        - str(476) = \"476\"\n",
    "        - str(\"Hello\") = \"Hello\"\n",
    "\n",
    "#### We use int() and str() to add integers and strings.\n",
    "    - \"5\" + 10 --> Error\n",
    "        - int(\"5\") + 10 = 15\n",
    "    - \"I have dogs: \" + 10 --> Error\n",
    "        - \"I have dogs: \" + str(10) = \"I have dogs: 5\"\n",
    "            - \"string\" + \"string\" = \"stringstring\"\n",
    "\n",
    "### Variables\n",
    "- variable\n",
    "    - variables to store for later\n",
    "        - word = what_ever_you_want_to_save_for_later\n",
    "    - Rules for variables (the word)\n",
    "        - Can not start with a number\n",
    "            - NO: 3word\n",
    "            - YES: word3\n",
    "        - No spaces\n",
    "            - NO: my variable does not work\n",
    "            - YES: my_variable_works\n",
    "            - YES: MyVariableWorks\n",
    "        - No decimals\n",
    "            - NO: my.variable.does.not.work\n",
    "            - YES: my_variable\n",
    "- value\n",
    "    - What is assigned to the variable\n",
    "        - what_ever_you_want_to_save_for_later\n",
    "        - age = 50, value is 50\n",
    "    - Whatever is on the right side of equal sign\n",
    "- comments\n",
    "    - python ignores all comments, does not run anything to right\n",
    "        - # the hashtag, pound sign\n",
    "        - # 1 + 5 --> Nothing because of comment\n",
    "- mutability\n",
    "    - variables can change, they can mutate\n",
    "        - age = 17\n",
    "        - age = age + 1 --> age is 18 it has changed\n",
    "        - age = \"Only a number\" --> \"Only a number\"\n",
    "\n",
    "### Errors\n",
    "- debugging\n",
    "    - try over and over and over to see what is wrong\n",
    "    - ctrl + z undo\n",
    "    - ctrl + y redo\n",
    "    - ctrl + c copy\n",
    "    - ctrl + v paste\n",
    "    - ctrl + x cut\n",
    "    - ctrl + a select all\n",
    "    - ctrl + backspce \"delete a word\"\n",
    "- errors\n",
    "    - NameError: when a variable is not defined\n",
    "    - SyntaxError: when a parenthesis/quote is missing\n",
    "        - syntax are our symbols ()\"\n",
    "    - TypeError: trying to combine strings and integers\n",
    "        - Types are string, integer, and float\n",
    "    - IndentationError: extra spaces, everyting must be aligned!"
   ]
  },
  {
   "cell_type": "code",
   "execution_count": 50,
   "metadata": {},
   "outputs": [],
   "source": [
    "age = 17"
   ]
  },
  {
   "cell_type": "code",
   "execution_count": 51,
   "metadata": {},
   "outputs": [],
   "source": [
    "age = age + 1"
   ]
  },
  {
   "cell_type": "code",
   "execution_count": 52,
   "metadata": {},
   "outputs": [
    {
     "name": "stdout",
     "output_type": "stream",
     "text": [
      "18\n"
     ]
    }
   ],
   "source": [
    "print(age)"
   ]
  },
  {
   "cell_type": "code",
   "execution_count": 54,
   "metadata": {},
   "outputs": [],
   "source": [
    "my_name = \"frank\""
   ]
  },
  {
   "cell_type": "code",
   "execution_count": 57,
   "metadata": {},
   "outputs": [
    {
     "name": "stdout",
     "output_type": "stream",
     "text": [
      "frank\n"
     ]
    }
   ],
   "source": [
    "print(my_name)"
   ]
  },
  {
   "cell_type": "code",
   "execution_count": 58,
   "metadata": {},
   "outputs": [
    {
     "data": {
      "text/plain": [
       "'onetwo'"
      ]
     },
     "execution_count": 58,
     "metadata": {},
     "output_type": "execute_result"
    }
   ],
   "source": [
    "'one' + 'two'"
   ]
  },
  {
   "cell_type": "code",
   "execution_count": 62,
   "metadata": {},
   "outputs": [
    {
     "data": {
      "text/plain": [
       "'1 2'"
      ]
     },
     "execution_count": 62,
     "metadata": {},
     "output_type": "execute_result"
    }
   ],
   "source": [
    "\"1 \" + \"2\""
   ]
  },
  {
   "cell_type": "code",
   "execution_count": 60,
   "metadata": {},
   "outputs": [
    {
     "data": {
      "text/plain": [
       "'Hello Jonn 50'"
      ]
     },
     "execution_count": 60,
     "metadata": {},
     "output_type": "execute_result"
    }
   ],
   "source": [
    "\"Hello \" + \"Jonn \" + str(50)"
   ]
  },
  {
   "cell_type": "code",
   "execution_count": 63,
   "metadata": {},
   "outputs": [
    {
     "ename": "NameError",
     "evalue": "name 'one' is not defined",
     "output_type": "error",
     "traceback": [
      "\u001b[1;31m---------------------------------------------------------------------------\u001b[0m",
      "\u001b[1;31mNameError\u001b[0m                                 Traceback (most recent call last)",
      "\u001b[1;32m<ipython-input-63-6d6d29209a85>\u001b[0m in \u001b[0;36m<module>\u001b[1;34m()\u001b[0m\n\u001b[1;32m----> 1\u001b[1;33m \u001b[0mone\u001b[0m \u001b[1;33m+\u001b[0m \u001b[0mtwo\u001b[0m\u001b[1;33m\u001b[0m\u001b[0m\n\u001b[0m",
      "\u001b[1;31mNameError\u001b[0m: name 'one' is not defined"
     ]
    }
   ],
   "source": [
    "one + two"
   ]
  },
  {
   "cell_type": "code",
   "execution_count": 64,
   "metadata": {},
   "outputs": [
    {
     "ename": "TypeError",
     "evalue": "must be str, not int",
     "output_type": "error",
     "traceback": [
      "\u001b[1;31m---------------------------------------------------------------------------\u001b[0m",
      "\u001b[1;31mTypeError\u001b[0m                                 Traceback (most recent call last)",
      "\u001b[1;32m<ipython-input-64-7f5ccc2c6acf>\u001b[0m in \u001b[0;36m<module>\u001b[1;34m()\u001b[0m\n\u001b[1;32m----> 1\u001b[1;33m \u001b[1;34m\"Blue\"\u001b[0m \u001b[1;33m+\u001b[0m \u001b[1;36m1\u001b[0m\u001b[1;33m\u001b[0m\u001b[0m\n\u001b[0m",
      "\u001b[1;31mTypeError\u001b[0m: must be str, not int"
     ]
    }
   ],
   "source": [
    "\"Blue\" + 1"
   ]
  },
  {
   "cell_type": "code",
   "execution_count": 65,
   "metadata": {},
   "outputs": [
    {
     "ename": "TypeError",
     "evalue": "unsupported operand type(s) for +: 'int' and 'str'",
     "output_type": "error",
     "traceback": [
      "\u001b[1;31m---------------------------------------------------------------------------\u001b[0m",
      "\u001b[1;31mTypeError\u001b[0m                                 Traceback (most recent call last)",
      "\u001b[1;32m<ipython-input-65-51f838ba6b9c>\u001b[0m in \u001b[0;36m<module>\u001b[1;34m()\u001b[0m\n\u001b[1;32m----> 1\u001b[1;33m \u001b[1;36m1\u001b[0m \u001b[1;33m+\u001b[0m \u001b[1;34m\"Blue\"\u001b[0m\u001b[1;33m\u001b[0m\u001b[0m\n\u001b[0m",
      "\u001b[1;31mTypeError\u001b[0m: unsupported operand type(s) for +: 'int' and 'str'"
     ]
    }
   ],
   "source": [
    "1 + \"Blue\""
   ]
  },
  {
   "cell_type": "code",
   "execution_count": 66,
   "metadata": {},
   "outputs": [
    {
     "ename": "TypeError",
     "evalue": "unsupported operand type(s) for -: 'int' and 'str'",
     "output_type": "error",
     "traceback": [
      "\u001b[1;31m---------------------------------------------------------------------------\u001b[0m",
      "\u001b[1;31mTypeError\u001b[0m                                 Traceback (most recent call last)",
      "\u001b[1;32m<ipython-input-66-a636dece5222>\u001b[0m in \u001b[0;36m<module>\u001b[1;34m()\u001b[0m\n\u001b[1;32m----> 1\u001b[1;33m \u001b[1;36m1\u001b[0m \u001b[1;33m-\u001b[0m \u001b[1;34m\"Blue\"\u001b[0m\u001b[1;33m\u001b[0m\u001b[0m\n\u001b[0m",
      "\u001b[1;31mTypeError\u001b[0m: unsupported operand type(s) for -: 'int' and 'str'"
     ]
    }
   ],
   "source": [
    "1 - \"Blue\""
   ]
  },
  {
   "cell_type": "code",
   "execution_count": 67,
   "metadata": {},
   "outputs": [
    {
     "ename": "TypeError",
     "evalue": "unsupported operand type(s) for -: 'str' and 'int'",
     "output_type": "error",
     "traceback": [
      "\u001b[1;31m---------------------------------------------------------------------------\u001b[0m",
      "\u001b[1;31mTypeError\u001b[0m                                 Traceback (most recent call last)",
      "\u001b[1;32m<ipython-input-67-9c3e2af468bf>\u001b[0m in \u001b[0;36m<module>\u001b[1;34m()\u001b[0m\n\u001b[1;32m----> 1\u001b[1;33m \u001b[1;34m\"Blue\"\u001b[0m \u001b[1;33m-\u001b[0m \u001b[1;36m1\u001b[0m\u001b[1;33m\u001b[0m\u001b[0m\n\u001b[0m",
      "\u001b[1;31mTypeError\u001b[0m: unsupported operand type(s) for -: 'str' and 'int'"
     ]
    }
   ],
   "source": [
    "\"Blue\" - 1"
   ]
  },
  {
   "cell_type": "code",
   "execution_count": 74,
   "metadata": {},
   "outputs": [
    {
     "name": "stdout",
     "output_type": "stream",
     "text": [
      "Hello\n"
     ]
    }
   ],
   "source": [
    "print(\"Hello\")"
   ]
  },
  {
   "cell_type": "code",
   "execution_count": 2,
   "metadata": {},
   "outputs": [
    {
     "name": "stdout",
     "output_type": "stream",
     "text": [
      "Age?5\n"
     ]
    },
    {
     "data": {
      "text/plain": [
       "'5'"
      ]
     },
     "execution_count": 2,
     "metadata": {},
     "output_type": "execute_result"
    }
   ],
   "source": [
    "input(\"Age?\")"
   ]
  },
  {
   "cell_type": "code",
   "execution_count": 4,
   "metadata": {},
   "outputs": [
    {
     "name": "stdout",
     "output_type": "stream",
     "text": [
      "age?10\n"
     ]
    },
    {
     "data": {
      "text/plain": [
       "11"
      ]
     },
     "execution_count": 4,
     "metadata": {},
     "output_type": "execute_result"
    }
   ],
   "source": [
    "age = input(\"age?\")\n",
    "int(age) + 1"
   ]
  },
  {
   "cell_type": "code",
   "execution_count": 5,
   "metadata": {},
   "outputs": [
    {
     "data": {
      "text/plain": [
       "13"
      ]
     },
     "execution_count": 5,
     "metadata": {},
     "output_type": "execute_result"
    }
   ],
   "source": [
    "5 +8"
   ]
  },
  {
   "cell_type": "code",
   "execution_count": 6,
   "metadata": {},
   "outputs": [],
   "source": [
    "# 1 + 5"
   ]
  },
  {
   "cell_type": "code",
   "execution_count": 7,
   "metadata": {},
   "outputs": [],
   "source": [
    "#test = 1 + 5"
   ]
  },
  {
   "cell_type": "code",
   "execution_count": 8,
   "metadata": {},
   "outputs": [
    {
     "ename": "NameError",
     "evalue": "name 'test' is not defined",
     "output_type": "error",
     "traceback": [
      "\u001b[1;31m---------------------------------------------------------------------------\u001b[0m",
      "\u001b[1;31mNameError\u001b[0m                                 Traceback (most recent call last)",
      "\u001b[1;32m<ipython-input-8-4e1243bd22c6>\u001b[0m in \u001b[0;36m<module>\u001b[1;34m()\u001b[0m\n\u001b[1;32m----> 1\u001b[1;33m \u001b[0mtest\u001b[0m\u001b[1;33m\u001b[0m\u001b[0m\n\u001b[0m",
      "\u001b[1;31mNameError\u001b[0m: name 'test' is not defined"
     ]
    }
   ],
   "source": [
    "test"
   ]
  },
  {
   "cell_type": "code",
   "execution_count": 11,
   "metadata": {},
   "outputs": [],
   "source": [
    "age = 15"
   ]
  },
  {
   "cell_type": "code",
   "execution_count": 24,
   "metadata": {},
   "outputs": [],
   "source": [
    "age = age + 1"
   ]
  },
  {
   "cell_type": "code",
   "execution_count": 27,
   "metadata": {},
   "outputs": [
    {
     "name": "stdout",
     "output_type": "stream",
     "text": [
      "27\n"
     ]
    }
   ],
   "source": [
    "print(age) + 1"
   ]
  },
  {
   "cell_type": "code",
   "execution_count": 28,
   "metadata": {},
   "outputs": [
    {
     "ename": "SyntaxError",
     "evalue": "unexpected EOF while parsing (<ipython-input-28-0597d521fe22>, line 1)",
     "output_type": "error",
     "traceback": [
      "\u001b[1;36m  File \u001b[1;32m\"<ipython-input-28-0597d521fe22>\"\u001b[1;36m, line \u001b[1;32m1\u001b[0m\n\u001b[1;33m    print(age\u001b[0m\n\u001b[1;37m             ^\u001b[0m\n\u001b[1;31mSyntaxError\u001b[0m\u001b[1;31m:\u001b[0m unexpected EOF while parsing\n"
     ]
    }
   ],
   "source": [
    "print(age"
   ]
  },
  {
   "cell_type": "code",
   "execution_count": 29,
   "metadata": {},
   "outputs": [
    {
     "ename": "SyntaxError",
     "evalue": "EOL while scanning string literal (<ipython-input-29-3df7eb12265f>, line 1)",
     "output_type": "error",
     "traceback": [
      "\u001b[1;36m  File \u001b[1;32m\"<ipython-input-29-3df7eb12265f>\"\u001b[1;36m, line \u001b[1;32m1\u001b[0m\n\u001b[1;33m    print(\"This is my day)\u001b[0m\n\u001b[1;37m                          ^\u001b[0m\n\u001b[1;31mSyntaxError\u001b[0m\u001b[1;31m:\u001b[0m EOL while scanning string literal\n"
     ]
    }
   ],
   "source": [
    "print(\"This is my day)"
   ]
  },
  {
   "cell_type": "code",
   "execution_count": 30,
   "metadata": {},
   "outputs": [
    {
     "ename": "IndentationError",
     "evalue": "unexpected indent (<ipython-input-30-b9ee7a017cc1>, line 2)",
     "output_type": "error",
     "traceback": [
      "\u001b[1;36m  File \u001b[1;32m\"<ipython-input-30-b9ee7a017cc1>\"\u001b[1;36m, line \u001b[1;32m2\u001b[0m\n\u001b[1;33m    print(\"Goodbye\")\u001b[0m\n\u001b[1;37m    ^\u001b[0m\n\u001b[1;31mIndentationError\u001b[0m\u001b[1;31m:\u001b[0m unexpected indent\n"
     ]
    }
   ],
   "source": [
    "print(\"Hello\")\n",
    " print(\"Goodbye\")"
   ]
  },
  {
   "cell_type": "code",
   "execution_count": null,
   "metadata": {},
   "outputs": [],
   "source": []
  }
 ],
 "metadata": {
  "kernelspec": {
   "display_name": "Python 3",
   "language": "python",
   "name": "python3"
  },
  "language_info": {
   "codemirror_mode": {
    "name": "ipython",
    "version": 3
   },
   "file_extension": ".py",
   "mimetype": "text/x-python",
   "name": "python",
   "nbconvert_exporter": "python",
   "pygments_lexer": "ipython3",
   "version": "3.6.5"
  }
 },
 "nbformat": 4,
 "nbformat_minor": 2
}
