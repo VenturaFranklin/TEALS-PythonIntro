{
 "cells": [
  {
   "cell_type": "markdown",
   "metadata": {},
   "source": [
    "# Project 1: Mad Libs\n",
    "\n",
    "Using Python, students will use variables, input, and printing to create a Mad Lib. You will also practice *designing* a project by planning out your Mad Lib before implementing it.  Part of the project is to use your creativity to design your own unique story.\n",
    "\n",
    "## Overview\n",
    "Mad Libs are a fun way to tell a story. The story is pre-written except for a few missing words.  The story is hidden from the user.  The user is asked a series of questions in order to fill in the missing words before seeing the story. Then the story is read off with the user's words mixed in!\n",
    "\n",
    "## Details\n",
    "### Behavior\n",
    "* The program will print out the title of the Mad Libs story, as well as a short explanation of game play    \n",
    "    ```\n",
    "    A Day in NYC: a Mad Lib.\n",
    "    Welcome! You are about to play a fantastic word game. \n",
    "    I will ask you for nouns, verbs, adjectives, proper nouns and adverbs. \n",
    "    Using those words I will create an unexpected story for you!\n",
    "    ```\n",
    "* The program should then prompt the user to enter in nouns, verbs, adjectives, proper nouns, and adverbs\n",
    "![Example running](mad_libs_screen_shot.png)\n",
    "* After all the words have been entered. The program will print out the story.  You will need to create a story of your own choosing.  Keep it clean and fun.  Here is an example of a day in New York City.\n",
    "```\n",
    "A Day in NYC: It was a beautiful day in New York City. \n",
    "Our hero Ariana Grande was on a walk from the Standard to Duane Reade. \n",
    "Ariana Grande was walking rather quickly because he/she had lived in New York for a few months.\n",
    "All of a sudden a slimey donut appeared out of nowhere!!! \n",
    "Ariana Grande decided to prance foolishly instead of dealing with the situation.\n",
    "Thrown off from Duane Reade, Ariana Grande decides to go to Times Square instead.\n",
    "What a beautiful day in New York. \n",
    "```\n",
    "\n",
    "### Implementation Details\n",
    "Plan out your story on pencil and paper first, before you start implementing the program.\n",
    "* Create your story\n",
    "* Select the missing words\n",
    "* Determine each words part of speech\n",
    "* Create introduction\n",
    "* Create questions\n",
    "* Divide story into print statements\n",
    "\n",
    "As mentioned above the program must request words from the user. The following **must** be included in the program: \n",
    "* 10 different words inputted\n",
    "* 2 words that are numbers\n",
    "* Variable names should correspond to the part of speech requested and part of the story they belong to (e.g. `noun1`, `verb2`, etc)\n",
    "* You may only use 3 print statements to tell your story\n",
    "\n",
    "## Grading \n",
    "### Scheme/Rubric\n",
    "| **Functional Correctness(Behavior)**                                |     |\n",
    "| --------------------------------------------------------------- |-----|\n",
    "| Program greets user and explains rules  | 3   |\n",
    "| Program accurately requests 10 words (1 for word, 1 for correct request)| 20|\n",
    "| Program prints full Mad Lib | 10   |\n",
    "| Program exhibits creativity               | 2   |\n",
    "| **Sub total**                                                   | 35  |\n",
    "| **Technical Correctness   **                                    |     |\n",
    "| Program utilizes variable names to convey meaning               | 5  |\n",
    "| Correct order of inputted words                                 | 10  |\n",
    "| Only 3 print statements                                         | 10  |\n",
    "| **Sub total**                                                   | 25  |\n",
    "| **Total**                                                       | 60 |\n",
    "\n",
    "\n"
   ]
  },
  {
   "cell_type": "code",
   "execution_count": null,
   "metadata": {},
   "outputs": [],
   "source": []
  }
 ],
 "metadata": {
  "kernelspec": {
   "display_name": "Python 3",
   "language": "python",
   "name": "python3"
  },
  "language_info": {
   "codemirror_mode": {
    "name": "ipython",
    "version": 3
   },
   "file_extension": ".py",
   "mimetype": "text/x-python",
   "name": "python",
   "nbconvert_exporter": "python",
   "pygments_lexer": "ipython3",
   "version": "3.6.5"
  }
 },
 "nbformat": 4,
 "nbformat_minor": 2
}
