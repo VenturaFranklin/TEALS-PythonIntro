{
 "cells": [
  {
   "cell_type": "markdown",
   "metadata": {},
   "source": [
    "# Lab 1.04 - Magic Genie\n",
    "\n",
    "**Goal**: Use Python to interact with variables and user input. \n",
    "\n",
    "Create a genie program. Save the file as `YOUR_LASTNAME_magic_genie`. \n",
    "\n",
    "____\n",
    "Concepts to remember:\n",
    "- assign variablesvalues\n",
    "    -  `my_name = \"Alejandro\"`\n",
    "- input to ask a question\n",
    "    - `quest = input(\"What is your quest?\")`\n",
    "- print to output\n",
    "    - `print(my_name + \"is on a quest to\" + quest)`\n",
    "____\n",
    "1. Have the program introduce itself. Then have the program ask for three separate wishes. Finally, print all the wishes together. \n",
    "![magic_genie_output](magic_genie_output.png)\n",
    "\n",
    "2.  There are some repeated strings in this genie program. Move those into variables.   \n",
    "\n",
    "3.  Now it's time to make your genie confused. Edit your code to have him print your first wish as your last wish, and your second wish as your first wish, and your third wish as your second wish. \n",
    "![magic_genie_output_confused](magic_genie_output_confused.png)\n",
    "\n",
    "### Hint!\n",
    "Remember to add spaces you can combine `\" \"`  to the end of your string using the `+` operator. So `print(\"hello\" + \" \" + \"student\")` would print `hello student`\n"
   ]
  },
  {
   "cell_type": "code",
   "execution_count": null,
   "metadata": {},
   "outputs": [],
   "source": []
  }
 ],
 "metadata": {
  "kernelspec": {
   "display_name": "Python 3",
   "language": "python",
   "name": "python3"
  },
  "language_info": {
   "codemirror_mode": {
    "name": "ipython",
    "version": 3
   },
   "file_extension": ".py",
   "mimetype": "text/x-python",
   "name": "python",
   "nbconvert_exporter": "python",
   "pygments_lexer": "ipython3",
   "version": "3.6.5"
  }
 },
 "nbformat": 4,
 "nbformat_minor": 2
}
