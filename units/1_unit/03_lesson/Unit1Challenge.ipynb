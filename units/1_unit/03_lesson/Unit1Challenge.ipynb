{
 "cells": [
  {
   "cell_type": "markdown",
   "metadata": {},
   "source": [
    "# Four Fours Challenge\n",
    "The four fours challenge! Using four 4's and any operations, try to write equations that have the numbers from 0 to 4 as the answer. You should use Python's arithmetic operations:\n",
    "\n",
    "- \\+ addition\n",
    "- \\- subtraction or negation\n",
    "- \\* multiplication\n",
    "- \\/ division\n",
    "- \\( ) parentheses for grouping\n",
    "- \\** power\n",
    "\n",
    "You may also use 44 or 4.4, which count as two fours, or .4, which counts as one four. \n",
    "For example, one solution for zero is:\n",
    "\n",
    "```python\n",
    "print(\"Zero is: \" + str(44-44))\n",
    "```\n",
    "\n",
    "Can you find a different solution? \n",
    "Here are what the results, but not the source code, will look like. (Note: answers may have trailing zeros if floating point arithmetic is used which is fine, i.e. 1 may be displayed as 1.0) \n",
    "```\n",
    "Zero is 0\n",
    "One is 1\n",
    "Two is 2\n",
    "Three is 3\n",
    "Four is 4\n",
    "```\n",
    "\n",
    "## Bonus!\n",
    "Print the output below, but only using one line of code. Feel free to use online resources. Only one `print()`\n",
    "```\n",
    "Wow!\n",
    "This is on a new line! \n",
    "```\n",
    "## Bonus 2!\n",
    "Can you find four fours for 5 to 10?"
   ]
  }
 ],
 "metadata": {
  "kernelspec": {
   "display_name": "Python 3",
   "language": "python",
   "name": "python3"
  },
  "language_info": {
   "codemirror_mode": {
    "name": "ipython",
    "version": 3
   },
   "file_extension": ".py",
   "mimetype": "text/x-python",
   "name": "python",
   "nbconvert_exporter": "python",
   "pygments_lexer": "ipython3",
   "version": "3.6.5"
  }
 },
 "nbformat": 4,
 "nbformat_minor": 2
}
